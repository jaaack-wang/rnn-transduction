{
 "cells": [
  {
   "cell_type": "markdown",
   "id": "8f0c797d",
   "metadata": {},
   "source": [
    "## Overview\n",
    "\n",
    "This is a simple tutorial showing how to use the code provided to train a RNN model learning initial CV reduplication patterns. Data is taken from https://github.com/MaxAndrewNelson/Neural-Reduplication/tree/master/data.\n",
    "\n",
    "**Note**: \n",
    "\n",
    "- Definition: Initial CV reduplication is a common reduplication pattern where initial CV in a word gets reduplicated, so hypothecially, \"ba\" --> \"baba\", \"baba\" --> \"bababa\" (not \"babababa\" because the later \"ba\" is not initial), and \"bba\" --> \"bba\" (not \"bbaba\" because \"ba\" is not initial). \n",
    "- The data used for training and evaluation **only consists of positive examples**. The reduplicated strings are already tokenized by myself. \n",
    "- I have also done simulation with pesudo initial CV reduplication data which, however, on one hand has much less examples (just to test the sample complexity needed to train a robust model), and on the other hand, also consists of negative examples."
   ]
  },
  {
   "cell_type": "markdown",
   "id": "39f39bbe",
   "metadata": {},
   "source": [
    "## Dependencies"
   ]
  },
  {
   "cell_type": "code",
   "execution_count": 1,
   "id": "7261fc93",
   "metadata": {},
   "outputs": [],
   "source": [
    "import torch\n",
    "import torch.nn as nn\n",
    "import torch.optim as optim\n",
    "from scripts.visualization import plot_training_log\n",
    "from scripts.utils import read_data, create_dir, read_json, save_dict_as_json\n",
    "from scripts.dataloader import get_text_encoder_decoder, customize_dataloader_func\n",
    "from scripts.pytorch_utils import get_model, train_and_evaluate, evaluate, customize_predictor, predict_next"
   ]
  },
  {
   "cell_type": "markdown",
   "id": "3ba1e599",
   "metadata": {},
   "source": [
    "## For reproducibility (if needed)\n",
    "\n",
    "- **Noes**: If you results differ, try to run the notebook for more than one times. The notebook takes less a minute to run for a 2020 Mac Pro laptop. "
   ]
  },
  {
   "cell_type": "code",
   "execution_count": 2,
   "id": "b5cc146b",
   "metadata": {},
   "outputs": [
    {
     "data": {
      "text/plain": [
       "<torch._C.Generator at 0x7fe5bdd09f10>"
      ]
     },
     "execution_count": 2,
     "metadata": {},
     "output_type": "execute_result"
    }
   ],
   "source": [
    "import random \n",
    "import numpy as np\n",
    "\n",
    "seed = 21567\n",
    "random.seed(seed)\n",
    "np.random.seed(seed)\n",
    "torch.manual_seed(seed)"
   ]
  },
  {
   "cell_type": "markdown",
   "id": "f651df9e",
   "metadata": {},
   "source": [
    "## Get data set up"
   ]
  },
  {
   "cell_type": "markdown",
   "id": "cf27eb85",
   "metadata": {},
   "source": [
    "### Import the data and tokenize the output sequences \n",
    "\n",
    "- Since RNNs can only produce same number of input tokens as the outputs, it is important to align the input and output sequences. Here, it happens that the output sequence is strictly longer than the input sequence, so we need to only tokenize the output sequences. \n",
    "- The input sequence needs not to be tokenized because every token in it is exactly an character. In Python, string is also iterable. It is also Okay to tokenize the input sequence by using `list` so that it is easier to see the alignment between the input and output sequences."
   ]
  },
  {
   "cell_type": "code",
   "execution_count": 3,
   "id": "9d91778c",
   "metadata": {},
   "outputs": [
    {
     "data": {
      "text/plain": [
       "[['wedo', 'w-ewe-d-o'],\n",
       " ['bigxij', 'b-ibi-g-x-i-j'],\n",
       " ['kocmiveqeciw', 'k-oko-c-m-i-v-e-q-e-c-i-w'],\n",
       " ['qumyw', 'q-uqu-m-y-w'],\n",
       " ['sylys', 's-ysy-l-y-s'],\n",
       " ['zyqafij', 'z-yzy-q-a-f-i-j'],\n",
       " ['zypwabi', 'z-yzy-p-w-a-b-i'],\n",
       " ['taby', 't-ata-b-y'],\n",
       " ['jarnumjy', 'j-aja-r-n-u-m-j-y'],\n",
       " ['livkuwpa', 'l-ili-v-k-u-w-p-a']]"
      ]
     },
     "execution_count": 3,
     "metadata": {},
     "output_type": "execute_result"
    }
   ],
   "source": [
    "train = read_data(\"data/init_cv_red_more_real/train.txt\")\n",
    "dev = read_data(\"data/init_cv_red_more_real/dev.txt\")\n",
    "test = read_data(\"data/init_cv_red_more_real/test_with_answers.txt\")\n",
    "train[:10]"
   ]
  },
  {
   "cell_type": "code",
   "execution_count": 4,
   "id": "ae8f8ea8",
   "metadata": {},
   "outputs": [
    {
     "data": {
      "text/plain": [
       "[['wedo', ['w', 'ewe', 'd', 'o']],\n",
       " ['bigxij', ['b', 'ibi', 'g', 'x', 'i', 'j']],\n",
       " ['kocmiveqeciw',\n",
       "  ['k', 'oko', 'c', 'm', 'i', 'v', 'e', 'q', 'e', 'c', 'i', 'w']],\n",
       " ['qumyw', ['q', 'uqu', 'm', 'y', 'w']],\n",
       " ['sylys', ['s', 'ysy', 'l', 'y', 's']],\n",
       " ['zyqafij', ['z', 'yzy', 'q', 'a', 'f', 'i', 'j']],\n",
       " ['zypwabi', ['z', 'yzy', 'p', 'w', 'a', 'b', 'i']],\n",
       " ['taby', ['t', 'ata', 'b', 'y']],\n",
       " ['jarnumjy', ['j', 'aja', 'r', 'n', 'u', 'm', 'j', 'y']],\n",
       " ['livkuwpa', ['l', 'ili', 'v', 'k', 'u', 'w', 'p', 'a']]]"
      ]
     },
     "execution_count": 4,
     "metadata": {},
     "output_type": "execute_result"
    }
   ],
   "source": [
    "train = [[t1, t2.split(\"-\")] for (t1, t2) in train]\n",
    "dev = [[t1, t2.split(\"-\")] for (t1, t2) in dev]\n",
    "test = [[t1, t2.split(\"-\")] for (t1, t2) in test]\n",
    "\n",
    "train[:10]"
   ]
  },
  {
   "cell_type": "markdown",
   "id": "7c3e931c",
   "metadata": {},
   "source": [
    "### Get the input and output vocabularies and the mapping functions\n",
    "\n",
    "- `get_text_encoder_decoder` is a very simplistic function that returns two functions that can encode input tokens into a list of integers and decode encoded inputs tokens back into a list of string. You can also define one on your own if needed."
   ]
  },
  {
   "cell_type": "code",
   "execution_count": 5,
   "id": "56e4b85f",
   "metadata": {},
   "outputs": [
    {
     "name": "stdout",
     "output_type": "stream",
     "text": [
      "Size of input vocabulary: 27\n",
      "Size of output vocabulary: 147\n"
     ]
    }
   ],
   "source": [
    "in_vocab = list(set([v for (text, _) in train for v in text]))\n",
    "out_vocab = list(set([v for (_, text) in train for v in text]))\n",
    "\n",
    "# add a \"UNK_OR_PAD\" token as both an Unkown and Padding token\n",
    "in_vocab = [\"UNK_OR_PAD\"] + in_vocab\n",
    "out_vocab = [\"UNK_OR_PAD\"] + out_vocab\n",
    "\n",
    "print(\"Size of input vocabulary:\", len(in_vocab))\n",
    "print(\"Size of output vocabulary:\", len(out_vocab))"
   ]
  },
  {
   "cell_type": "code",
   "execution_count": 6,
   "id": "76c732aa",
   "metadata": {},
   "outputs": [],
   "source": [
    "# in_seq_decoder will not be used anyway\n",
    "in_seq_encoder, _ = get_text_encoder_decoder(in_vocab)\n",
    "out_seq_encoder, out_seq_decoder = get_text_encoder_decoder(out_vocab)"
   ]
  },
  {
   "cell_type": "code",
   "execution_count": 7,
   "id": "c7d04b60",
   "metadata": {},
   "outputs": [
    {
     "name": "stdout",
     "output_type": "stream",
     "text": [
      "example_str 'abcd' encoded by in_seq_encoder: [24, 5, 11, 2]\n",
      "example_str 'abcd' encoded by out_seq_encoder: [67, 3, 123, 1]\n"
     ]
    }
   ],
   "source": [
    "# due to different vocabulary stock, in_seq_encoder and out_seq_decoder encode differently\n",
    "example_str = \"abcd\"\n",
    "\n",
    "print(f\"example_str '{example_str}' encoded by in_seq_encoder:\", in_seq_encoder(example_str))\n",
    "print(f\"example_str '{example_str}' encoded by out_seq_encoder:\", out_seq_encoder(example_str))"
   ]
  },
  {
   "cell_type": "code",
   "execution_count": 8,
   "id": "53e3b117",
   "metadata": {},
   "outputs": [
    {
     "name": "stdout",
     "output_type": "stream",
     "text": [
      "['l', 'oco', 'p', 'eje']\n",
      "['a', 'b', 'c', 'd']\n"
     ]
    }
   ],
   "source": [
    "# please note that out_seq_decoder will only relate to in_seq_encoder\n",
    "print(out_seq_decoder(in_seq_encoder(example_str)))\n",
    "print(out_seq_decoder(out_seq_encoder(example_str)))"
   ]
  },
  {
   "cell_type": "markdown",
   "id": "b468cd17",
   "metadata": {},
   "source": [
    "## Dataloader function"
   ]
  },
  {
   "cell_type": "code",
   "execution_count": 9,
   "id": "b32084e4",
   "metadata": {},
   "outputs": [
    {
     "data": {
      "text/plain": [
       "([0], [0])"
      ]
     },
     "execution_count": 9,
     "metadata": {},
     "output_type": "execute_result"
    }
   ],
   "source": [
    "in_seq_encoder([\"UNK_OR_PAD\"]), out_seq_encoder([\"UNK_OR_PAD\"])"
   ]
  },
  {
   "cell_type": "code",
   "execution_count": 10,
   "id": "b4a9d398",
   "metadata": {},
   "outputs": [],
   "source": [
    "padding_idx = 0 # see above\n",
    "batch_size = 1000\n",
    "\n",
    "dataloader_func = customize_dataloader_func(in_seq_encoder, \n",
    "                                            out_seq_encoder, \n",
    "                                            padding_idx=padding_idx, \n",
    "                                            batch_size=batch_size)\n",
    "\n",
    "train_dl = dataloader_func(train)\n",
    "dev_dl = dataloader_func(dev)\n",
    "test_dl = dataloader_func(test)"
   ]
  },
  {
   "cell_type": "markdown",
   "id": "25e73e6d",
   "metadata": {},
   "source": [
    "## Training\n",
    "\n",
    "**ModelConfig**:\n",
    "\n",
    "- `bias (bool)`: whether to include bias terms during training \n",
    "- `rnn_type (str)`: SRNN (Simple RNN), LSTM, GRU\n",
    "- `embd_dim (integer)`: embedding dimension\n",
    "- `num_layers (integer)`: number of RNN layers.\n",
    "- `hidden_size (integer)`: size of the hidden units\n",
    "- `dropout_rate (float)`: 0 ~ 1(not included), dropout rate.\n",
    "- `device (str)`: cpu or cuda\n",
    "- `bidirectional (bool)`: whether to use bidirectional RNNs.\n",
    "- `in_vocab_size (integer)`: size of the input vocabulary \n",
    "- `out_vocab_size (integer)`: size of the output vocabulary\n",
    "- `reduction_method (str)`: sum or mean, ways to reduce dimensions when `bidirectional` is `True`"
   ]
  },
  {
   "cell_type": "code",
   "execution_count": 11,
   "id": "7e3e877c",
   "metadata": {},
   "outputs": [
    {
     "name": "stdout",
     "output_type": "stream",
     "text": [
      "The model has 7,827 trainable parameters\n"
     ]
    }
   ],
   "source": [
    "# this helps you to save the ModelConfig if you want to save the trained model and reuse it later on\n",
    "ModelConfig = {\"bias\": True, \n",
    "               \"rnn_type\": \"SRNN\",\n",
    "               \"embd_dim\": 32, \n",
    "               \"num_layers\": 1,\n",
    "               \"hidden_size\": 32, \n",
    "               \"dropout_rate\": 0.0,\n",
    "               \"device\": \"cpu\", \n",
    "               \"bidirectional\": False,\n",
    "               \"in_vocab_size\": len(in_vocab),\n",
    "               \"out_vocab_size\": len(out_vocab),\n",
    "               \"reduction_method\": \"sum\"}\n",
    "\n",
    "model = get_model(ModelConfig)"
   ]
  },
  {
   "cell_type": "code",
   "execution_count": 12,
   "id": "77c06261",
   "metadata": {},
   "outputs": [
    {
     "name": "stdout",
     "output_type": "stream",
     "text": [
      "Current epoch: 1, \n",
      "training performance: {'loss': 2.858276883761088, 'full sequence accuracy': 0.0, 'first n-symbol accuracy': 0.019755555555555557, 'overlap rate': 0.5723777777777778}\n",
      "evaluation performance: {'loss': 2.8475072383880615, 'full sequence accuracy': 0.0, 'first n-symbol accuracy': 0.018133333333333335, 'overlap rate': 0.5746}\n",
      "\n",
      "Current epoch: 2, \n",
      "training performance: {'loss': 2.1524547338485718, 'full sequence accuracy': 0.0, 'first n-symbol accuracy': 0.039488888888888886, 'overlap rate': 0.5925444444444444}\n",
      "evaluation performance: {'loss': 2.1343085765838623, 'full sequence accuracy': 0.0, 'first n-symbol accuracy': 0.0386, 'overlap rate': 0.5952666666666666}\n",
      "\n",
      "Current epoch: 3, \n",
      "training performance: {'loss': 1.7074226140975952, 'full sequence accuracy': 0.0, 'first n-symbol accuracy': 0.06666666666666667, 'overlap rate': 0.674388888888889}\n",
      "evaluation performance: {'loss': 1.7035753726959229, 'full sequence accuracy': 0.0, 'first n-symbol accuracy': 0.06666666666666667, 'overlap rate': 0.6758}\n",
      "\n",
      "Current epoch: 4, \n",
      "training performance: {'loss': 1.2487409114837646, 'full sequence accuracy': 0.0, 'first n-symbol accuracy': 0.06666666666666667, 'overlap rate': 0.7447222222222223}\n",
      "evaluation performance: {'loss': 1.2433006763458252, 'full sequence accuracy': 0.0, 'first n-symbol accuracy': 0.06666666666666667, 'overlap rate': 0.7446000000000002}\n",
      "\n",
      "Current epoch: 5, \n",
      "training performance: {'loss': 0.8844089905420939, 'full sequence accuracy': 0.0, 'first n-symbol accuracy': 0.06666666666666667, 'overlap rate': 0.8983444444444446}\n",
      "evaluation performance: {'loss': 0.8819878697395325, 'full sequence accuracy': 0.0, 'first n-symbol accuracy': 0.06666666666666667, 'overlap rate': 0.8985333333333335}\n",
      "\n",
      "Current epoch: 6, \n",
      "training performance: {'loss': 0.6139890452226003, 'full sequence accuracy': 0.0, 'first n-symbol accuracy': 0.06666666666666667, 'overlap rate': 0.9303444444444446}\n",
      "evaluation performance: {'loss': 0.613510251045227, 'full sequence accuracy': 0.0, 'first n-symbol accuracy': 0.06666666666666667, 'overlap rate': 0.9306000000000001}\n",
      "\n",
      "Current epoch: 7, \n",
      "training performance: {'loss': 0.4540317157904307, 'full sequence accuracy': 0.0, 'first n-symbol accuracy': 0.06666666666666667, 'overlap rate': 0.9333222222222225}\n",
      "evaluation performance: {'loss': 0.45468080043792725, 'full sequence accuracy': 0.0, 'first n-symbol accuracy': 0.06666666666666667, 'overlap rate': 0.9333333333333337}\n",
      "\n",
      "Current epoch: 8, \n",
      "training performance: {'loss': 0.36328386267026264, 'full sequence accuracy': 0.0, 'first n-symbol accuracy': 0.06666666666666667, 'overlap rate': 0.9333333333333337}\n",
      "evaluation performance: {'loss': 0.36577108502388, 'full sequence accuracy': 0.0, 'first n-symbol accuracy': 0.06666666666666667, 'overlap rate': 0.9333333333333337}\n",
      "\n",
      "Current epoch: 9, \n",
      "training performance: {'loss': 0.30364272991816205, 'full sequence accuracy': 0.0, 'first n-symbol accuracy': 0.06666666666666667, 'overlap rate': 0.9333333333333337}\n",
      "evaluation performance: {'loss': 0.30716195702552795, 'full sequence accuracy': 0.0, 'first n-symbol accuracy': 0.06666666666666667, 'overlap rate': 0.9333333333333337}\n",
      "\n",
      "Current epoch: 10, \n",
      "training performance: {'loss': 0.2581569204727809, 'full sequence accuracy': 0.0, 'first n-symbol accuracy': 0.06666666666666667, 'overlap rate': 0.9333111111111113}\n",
      "evaluation performance: {'loss': 0.2619546949863434, 'full sequence accuracy': 0.0, 'first n-symbol accuracy': 0.06666666666666667, 'overlap rate': 0.9333333333333337}\n",
      "\n",
      "Current epoch: 11, \n",
      "training performance: {'loss': 0.22002847492694855, 'full sequence accuracy': 0.05216666666666667, 'first n-symbol accuracy': 0.11535555555555556, 'overlap rate': 0.936788888888889}\n",
      "evaluation performance: {'loss': 0.2238008826971054, 'full sequence accuracy': 0.049, 'first n-symbol accuracy': 0.1124, 'overlap rate': 0.9366000000000001}\n",
      "\n",
      "Current epoch: 12, \n",
      "training performance: {'loss': 0.1877499297261238, 'full sequence accuracy': 0.25, 'first n-symbol accuracy': 0.30000000000000004, 'overlap rate': 0.949988888888889}\n",
      "evaluation performance: {'loss': 0.19124995172023773, 'full sequence accuracy': 0.238, 'first n-symbol accuracy': 0.2888, 'overlap rate': 0.9492}\n",
      "\n",
      "Current epoch: 13, \n",
      "training performance: {'loss': 0.15997828046480814, 'full sequence accuracy': 0.5568333333333334, 'first n-symbol accuracy': 0.5863777777777778, 'overlap rate': 0.9704555555555555}\n",
      "evaluation performance: {'loss': 0.16321876645088196, 'full sequence accuracy': 0.535, 'first n-symbol accuracy': 0.566, 'overlap rate': 0.9690000000000001}\n",
      "\n",
      "Current epoch: 14, \n",
      "training performance: {'loss': 0.13583368311325708, 'full sequence accuracy': 0.729, 'first n-symbol accuracy': 0.7470666666666667, 'overlap rate': 0.9819333333333334}\n",
      "evaluation performance: {'loss': 0.1388217806816101, 'full sequence accuracy': 0.704, 'first n-symbol accuracy': 0.7237333333333333, 'overlap rate': 0.9802666666666667}\n",
      "\n",
      "Current epoch: 15, \n",
      "training performance: {'loss': 0.11475107570489247, 'full sequence accuracy': 0.8178333333333333, 'first n-symbol accuracy': 0.8299777777777777, 'overlap rate': 0.9878555555555556}\n",
      "evaluation performance: {'loss': 0.11744754016399384, 'full sequence accuracy': 0.803, 'first n-symbol accuracy': 0.8161333333333334, 'overlap rate': 0.9868666666666667}\n",
      "\n",
      "Current epoch: 16, \n",
      "training performance: {'loss': 0.09664898986617725, 'full sequence accuracy': 0.8938333333333334, 'first n-symbol accuracy': 0.9009111111111111, 'overlap rate': 0.9929222222222224}\n",
      "evaluation performance: {'loss': 0.0990983322262764, 'full sequence accuracy': 0.874, 'first n-symbol accuracy': 0.8824, 'overlap rate': 0.9916}\n",
      "\n",
      "Current epoch: 17, \n",
      "training performance: {'loss': 0.08138050014774005, 'full sequence accuracy': 0.9388333333333333, 'first n-symbol accuracy': 0.942911111111111, 'overlap rate': 0.9959222222222222}\n",
      "evaluation performance: {'loss': 0.08359405398368835, 'full sequence accuracy': 0.92, 'first n-symbol accuracy': 0.9253333333333333, 'overlap rate': 0.9946666666666666}\n",
      "\n",
      "Current epoch: 18, \n",
      "training performance: {'loss': 0.06868119289477666, 'full sequence accuracy': 0.9388333333333333, 'first n-symbol accuracy': 0.942911111111111, 'overlap rate': 0.9959111111111111}\n",
      "evaluation performance: {'loss': 0.07062448561191559, 'full sequence accuracy': 0.92, 'first n-symbol accuracy': 0.9253333333333333, 'overlap rate': 0.9946666666666666}\n",
      "\n",
      "Current epoch: 19, \n",
      "training performance: {'loss': 0.05825089290738106, 'full sequence accuracy': 0.9870000000000001, 'first n-symbol accuracy': 0.9878666666666667, 'overlap rate': 0.9991333333333334}\n",
      "evaluation performance: {'loss': 0.059925634413957596, 'full sequence accuracy': 0.979, 'first n-symbol accuracy': 0.9804, 'overlap rate': 0.9986}\n",
      "\n",
      "Current epoch: 20, \n",
      "training performance: {'loss': 0.04976079240441322, 'full sequence accuracy': 0.9935, 'first n-symbol accuracy': 0.9939333333333332, 'overlap rate': 0.9995666666666668}\n",
      "evaluation performance: {'loss': 0.051185332238674164, 'full sequence accuracy': 0.993, 'first n-symbol accuracy': 0.9934666666666667, 'overlap rate': 0.9995333333333333}\n",
      "\n",
      "Current epoch: 21, \n",
      "training performance: {'loss': 0.042888512214024864, 'full sequence accuracy': 0.9935, 'first n-symbol accuracy': 0.9939333333333332, 'overlap rate': 0.9995666666666668}\n",
      "evaluation performance: {'loss': 0.044088464230298996, 'full sequence accuracy': 0.993, 'first n-symbol accuracy': 0.9934666666666667, 'overlap rate': 0.9995333333333333}\n",
      "\n",
      "Current epoch: 22, \n",
      "training performance: {'loss': 0.037337277084589005, 'full sequence accuracy': 1.0, 'first n-symbol accuracy': 1.0, 'overlap rate': 1.0}\n",
      "evaluation performance: {'loss': 0.03834901377558708, 'full sequence accuracy': 1.0, 'first n-symbol accuracy': 1.0, 'overlap rate': 1.0}\n",
      "\n",
      "init_cv_red_SRNN_model.pt saved!\n",
      "\n"
     ]
    }
   ],
   "source": [
    "# lr: learing rate; weight_decay: L2 regularization alpha \n",
    "\n",
    "criterion = nn.CrossEntropyLoss()\n",
    "optimizer = optim.Adam(model.parameters(), lr=1e-2, weight_decay=1e-5)\n",
    "\n",
    "rnn_type = ModelConfig[\"rnn_type\"]\n",
    "log = train_and_evaluate(model, train_dl, dev_dl, criterion, optimizer, \n",
    "                         saved_model_fp=f\"init_cv_red_{rnn_type}_model.pt\", \n",
    "                         acc_threshold=0.0, # if this is set greater than 1.0, no model will be saved.\n",
    "                         print_eval_freq=1, max_epoch_num=100, \n",
    "                         train_exit_acc=1.0, eval_exit_acc=1.0)"
   ]
  },
  {
   "cell_type": "code",
   "execution_count": 13,
   "id": "2ae45985",
   "metadata": {},
   "outputs": [
    {
     "data": {
      "image/png": "[encoded data removed]",
      "text/plain": [
       "<Figure size 1152x576 with 4 Axes>"
      ]
     },
     "metadata": {
      "needs_background": "light"
     },
     "output_type": "display_data"
    }
   ],
   "source": [
    "plot_training_log(log)"
   ]
  },
  {
   "cell_type": "markdown",
   "id": "0e07de30",
   "metadata": {},
   "source": [
    "## Evaluation\n",
    "\n",
    "- Works perfectly for the held out test set!"
   ]
  },
  {
   "cell_type": "code",
   "execution_count": 14,
   "id": "c4e457f7",
   "metadata": {},
   "outputs": [
    {
     "data": {
      "text/plain": [
       "{'loss': 0.0384137307604154,\n",
       " 'full sequence accuracy': 1.0,\n",
       " 'first n-symbol accuracy': 1.0,\n",
       " 'overlap rate': 1.0}"
      ]
     },
     "execution_count": 14,
     "metadata": {},
     "output_type": "execute_result"
    }
   ],
   "source": [
    "evaluate(model, test_dl, criterion)"
   ]
  },
  {
   "cell_type": "markdown",
   "id": "b745a9a4",
   "metadata": {},
   "source": [
    "## Save ModelConfig and Reuse saved model\n",
    "\n",
    "- Suppose you want to deploy the saved model anytime you want. To do that, we also need to save the ModelConfig along with the saved trained model so that we can reuse the later with correct setups. "
   ]
  },
  {
   "cell_type": "code",
   "execution_count": 15,
   "id": "63535e40",
   "metadata": {},
   "outputs": [
    {
     "name": "stdout",
     "output_type": "stream",
     "text": [
      "ModelConfig.json saved!\n"
     ]
    }
   ],
   "source": [
    "save_dict_as_json(ModelConfig, \"ModelConfig.json\")"
   ]
  },
  {
   "cell_type": "code",
   "execution_count": 16,
   "id": "bb2fc57e",
   "metadata": {},
   "outputs": [],
   "source": [
    "del ModelConfig; del model"
   ]
  },
  {
   "cell_type": "code",
   "execution_count": 17,
   "id": "abf6c746",
   "metadata": {},
   "outputs": [
    {
     "name": "stdout",
     "output_type": "stream",
     "text": [
      "The model has 7,827 trainable parameters\n"
     ]
    }
   ],
   "source": [
    "saved_modelconfig_path = \"ModelConfig.json\"\n",
    "ModelConfig = read_json(saved_modelconfig_path)\n",
    "model = get_model(ModelConfig, init_method=None)"
   ]
  },
  {
   "cell_type": "code",
   "execution_count": 18,
   "id": "72b23595",
   "metadata": {},
   "outputs": [
    {
     "data": {
      "text/plain": [
       "<All keys matched successfully>"
      ]
     },
     "execution_count": 18,
     "metadata": {},
     "output_type": "execute_result"
    }
   ],
   "source": [
    "saved_model_path = \"init_cv_red_SRNN_model.pt\"\n",
    "model.load_state_dict(torch.load(saved_model_path))"
   ]
  },
  {
   "cell_type": "code",
   "execution_count": 19,
   "id": "0576239c",
   "metadata": {},
   "outputs": [
    {
     "data": {
      "text/plain": [
       "{'loss': 0.0384137307604154,\n",
       " 'full sequence accuracy': 1.0,\n",
       " 'first n-symbol accuracy': 1.0,\n",
       " 'overlap rate': 1.0}"
      ]
     },
     "execution_count": 19,
     "metadata": {},
     "output_type": "execute_result"
    }
   ],
   "source": [
    "# check the Evalutation section. Same results, meaning same model!\n",
    "evaluate(model, test_dl, criterion)"
   ]
  },
  {
   "cell_type": "markdown",
   "id": "b9f2624c",
   "metadata": {},
   "source": [
    "## Deployment\n"
   ]
  },
  {
   "cell_type": "code",
   "execution_count": 20,
   "id": "2c4cd172",
   "metadata": {},
   "outputs": [],
   "source": [
    "predictor = customize_predictor(model, dataloader_func, out_seq_decoder, batch_size=1)"
   ]
  },
  {
   "cell_type": "code",
   "execution_count": 21,
   "id": "d1871e2c",
   "metadata": {},
   "outputs": [
    {
     "data": {
      "text/plain": [
       "['damdupduteq',\n",
       " 'xop',\n",
       " 'ravix',\n",
       " 'xuppivwuv',\n",
       " 'ramy',\n",
       " 'sypsim',\n",
       " 'noqalcogo',\n",
       " 'negeh',\n",
       " 'pigappitxo',\n",
       " 'maqa']"
      ]
     },
     "execution_count": 21,
     "metadata": {},
     "output_type": "execute_result"
    }
   ],
   "source": [
    "test_examples = [t1 for (t1, t2) in test[:10]]\n",
    "answers = [t2 for (t1, t2) in test[:10]]\n",
    "test_examples"
   ]
  },
  {
   "cell_type": "code",
   "execution_count": 22,
   "id": "49b4e111",
   "metadata": {},
   "outputs": [
    {
     "data": {
      "text/plain": [
       "[['d', 'ada', 'm', 'd', 'u', 'p', 'd', 'u', 't', 'e', 'q'],\n",
       " ['x', 'oxo', 'p'],\n",
       " ['r', 'ara', 'v', 'i', 'x'],\n",
       " ['x', 'uxu', 'p', 'p', 'i', 'v', 'w', 'u', 'v'],\n",
       " ['r', 'ara', 'm', 'y'],\n",
       " ['s', 'ysy', 'p', 's', 'i', 'm'],\n",
       " ['n', 'ono', 'q', 'a', 'l', 'c', 'o', 'g', 'o'],\n",
       " ['n', 'ene', 'g', 'e', 'h'],\n",
       " ['p', 'ipi', 'g', 'a', 'p', 'p', 'i', 't', 'x', 'o'],\n",
       " ['m', 'ama', 'q', 'a']]"
      ]
     },
     "execution_count": 22,
     "metadata": {},
     "output_type": "execute_result"
    }
   ],
   "source": [
    "predicted = predictor(test_examples)\n",
    "predicted"
   ]
  },
  {
   "cell_type": "code",
   "execution_count": 23,
   "id": "619d1954",
   "metadata": {},
   "outputs": [
    {
     "name": "stdout",
     "output_type": "stream",
     "text": [
      "True\n",
      "True\n",
      "True\n",
      "True\n",
      "True\n",
      "True\n",
      "True\n",
      "True\n",
      "True\n",
      "True\n"
     ]
    }
   ],
   "source": [
    "for p, a in zip(predicted, answers):\n",
    "    print(p==a)"
   ]
  },
  {
   "cell_type": "code",
   "execution_count": 24,
   "id": "5ce0089b",
   "metadata": {},
   "outputs": [
    {
     "name": "stdout",
     "output_type": "stream",
     "text": [
      "['d', 'ada', 'm', 'd', 'u', 'p', 'd', 'u', 't', 'e', 'q']\n",
      "['x', 'oxo', 'p', 'UNK_OR_PAD', 'UNK_OR_PAD', 'UNK_OR_PAD', 'UNK_OR_PAD', 'UNK_OR_PAD', 'UNK_OR_PAD', 'UNK_OR_PAD', 'UNK_OR_PAD']\n",
      "['r', 'ara', 'v', 'i', 'x', 'UNK_OR_PAD', 'UNK_OR_PAD', 'UNK_OR_PAD', 'UNK_OR_PAD', 'UNK_OR_PAD', 'UNK_OR_PAD']\n",
      "['x', 'uxu', 'p', 'p', 'i', 'v', 'w', 'u', 'v', 'UNK_OR_PAD', 'UNK_OR_PAD']\n",
      "['r', 'ara', 'm', 'y', 'UNK_OR_PAD', 'UNK_OR_PAD', 'UNK_OR_PAD', 'UNK_OR_PAD', 'UNK_OR_PAD', 'UNK_OR_PAD', 'UNK_OR_PAD']\n",
      "['s', 'ysy', 'p', 's', 'i', 'm', 'UNK_OR_PAD', 'UNK_OR_PAD', 'UNK_OR_PAD', 'UNK_OR_PAD', 'UNK_OR_PAD']\n",
      "['n', 'ono', 'q', 'a', 'l', 'c', 'o', 'g', 'o', 'UNK_OR_PAD', 'UNK_OR_PAD']\n",
      "['n', 'ene', 'g', 'e', 'h', 'UNK_OR_PAD', 'UNK_OR_PAD', 'UNK_OR_PAD', 'UNK_OR_PAD', 'UNK_OR_PAD', 'UNK_OR_PAD']\n",
      "['p', 'ipi', 'g', 'a', 'p', 'p', 'i', 't', 'x', 'o', 'UNK_OR_PAD']\n",
      "['m', 'ama', 'q', 'a', 'UNK_OR_PAD', 'UNK_OR_PAD', 'UNK_OR_PAD', 'UNK_OR_PAD', 'UNK_OR_PAD', 'UNK_OR_PAD', 'UNK_OR_PAD']\n"
     ]
    }
   ],
   "source": [
    "# however, if you set the batch_size to be greater than 1, you will see the following\n",
    "predicted = predictor(test_examples, batch_size=10)\n",
    "for p in predicted:\n",
    "    print(p)"
   ]
  },
  {
   "cell_type": "markdown",
   "id": "25e28691",
   "metadata": {},
   "source": [
    "## State transition"
   ]
  },
  {
   "cell_type": "code",
   "execution_count": 25,
   "id": "cf1f31b1",
   "metadata": {},
   "outputs": [
    {
     "name": "stdout",
     "output_type": "stream",
     "text": [
      "Input ~ output: b --> b\n",
      "Input ~ output: a -->  aba\n",
      "Input ~ output: b -->  b\n",
      "Input ~ output: a -->  a\n",
      "Input ~ output: b -->  b\n",
      "Input ~ output: a -->  a\n",
      "Input ~ output: b -->  b\n",
      "Input ~ output: a -->  a\n"
     ]
    }
   ],
   "source": [
    "string = \"babababa\"\n",
    "cur_pred = predict_next(string[0], model, in_seq_encoder, out_seq_decoder, re_start=True)\n",
    "print(f\"Input ~ output: {string[0]} --> {cur_pred[0]}\")\n",
    "for char in string[1:]:\n",
    "    cur_pred = predict_next(char, model, in_seq_encoder, out_seq_decoder)\n",
    "    print(f\"Input ~ output: {char} -->  {cur_pred[0]}\")"
   ]
  },
  {
   "cell_type": "markdown",
   "id": "cd860cc2",
   "metadata": {},
   "source": [
    "## Adversial inputs\n",
    "\n",
    "- Since this model is trained on positive examples only, it may reduplicate non-initial CV for once. In other words, it over-generalizes.\n",
    "- The following errors should be robustly corrected if negative examples are also used during training."
   ]
  },
  {
   "cell_type": "code",
   "execution_count": 26,
   "id": "07344be3",
   "metadata": {},
   "outputs": [
    {
     "name": "stdout",
     "output_type": "stream",
     "text": [
      "Input ~ output: aaa --> ['a', 'a', 'a']\n",
      "Input ~ output: bba --> ['b', 'b', 'a']\n",
      "Input ~ output: cca --> ['c', 'c', 'aca']\n",
      "Input ~ output: dda --> ['d', 'd', 'ada']\n",
      "Input ~ output: eea --> ['e', 'e', 'a']\n",
      "Input ~ output: ffa --> ['f', 'f', 'afa']\n",
      "Input ~ output: gga --> ['g', 'g', 'aga']\n",
      "Input ~ output: hha --> ['h', 'h', 'aha']\n",
      "Input ~ output: iia --> ['i', 'i', 'a']\n",
      "Input ~ output: jja --> ['j', 'j', 'aja']\n",
      "Input ~ output: kka --> ['k', 'k', 'aka']\n",
      "Input ~ output: lla --> ['l', 'l', 'ala']\n",
      "Input ~ output: mma --> ['m', 'm', 'ama']\n",
      "Input ~ output: nna --> ['n', 'n', 'ana']\n",
      "Input ~ output: ooa --> ['o', 'o', 'a']\n",
      "Input ~ output: ppa --> ['p', 'p', 'apa']\n",
      "Input ~ output: qqa --> ['q', 'q', 'aqa']\n",
      "Input ~ output: rra --> ['r', 'r', 'ara']\n",
      "Input ~ output: ssa --> ['s', 's', 'asa']\n",
      "Input ~ output: tta --> ['t', 't', 'a']\n",
      "Input ~ output: uua --> ['u', 'u', 'a']\n",
      "Input ~ output: vva --> ['v', 'v', 'a']\n",
      "Input ~ output: wwa --> ['w', 'w', 'a']\n",
      "Input ~ output: xxa --> ['x', 'x', 'axa']\n",
      "Input ~ output: yya --> ['y', 'y', 'a']\n",
      "Input ~ output: zza --> ['z', 'z', 'a']\n"
     ]
    }
   ],
   "source": [
    "from string import ascii_lowercase as alphabet\n",
    "\n",
    "for char in alphabet:\n",
    "    string = char + char + \"a\"\n",
    "    print(\"Input ~ output:\", string, \"-->\", predictor(string)[0])"
   ]
  },
  {
   "cell_type": "code",
   "execution_count": 27,
   "id": "c49dc8ad",
   "metadata": {},
   "outputs": [
    {
     "name": "stdout",
     "output_type": "stream",
     "text": [
      "Input ~ output: aaaa --> ['a', 'a', 'a', 'a']\n",
      "Input ~ output: bbba --> ['b', 'b', 'b', 'a']\n",
      "Input ~ output: ccca --> ['c', 'c', 'c', 'aca']\n",
      "Input ~ output: ddda --> ['d', 'd', 'd', 'ada']\n",
      "Input ~ output: eeea --> ['e', 'e', 'e', 'a']\n",
      "Input ~ output: fffa --> ['f', 'f', 'f', 'a']\n",
      "Input ~ output: ggga --> ['g', 'g', 'g', 'a']\n",
      "Input ~ output: hhha --> ['h', 'h', 'h', 'aha']\n",
      "Input ~ output: iiia --> ['i', 'i', 'i', 'a']\n",
      "Input ~ output: jjja --> ['j', 'j', 'j', 'aja']\n",
      "Input ~ output: kkka --> ['k', 'k', 'k', 'a']\n",
      "Input ~ output: llla --> ['l', 'l', 'l', 'a']\n",
      "Input ~ output: mmma --> ['m', 'm', 'm', 'ama']\n",
      "Input ~ output: nnna --> ['n', 'n', 'n', 'ana']\n",
      "Input ~ output: oooa --> ['o', 'o', 'o', 'a']\n",
      "Input ~ output: pppa --> ['p', 'p', 'p', 'apa']\n",
      "Input ~ output: qqqa --> ['q', 'q', 'q', 'a']\n",
      "Input ~ output: rrra --> ['r', 'r', 'r', 'a']\n",
      "Input ~ output: sssa --> ['s', 's', 's', 'a']\n",
      "Input ~ output: ttta --> ['t', 't', 't', 'a']\n",
      "Input ~ output: uuua --> ['u', 'u', 'u', 'a']\n",
      "Input ~ output: vvva --> ['v', 'v', 'v', 'a']\n",
      "Input ~ output: wwwa --> ['w', 'w', 'w', 'a']\n",
      "Input ~ output: xxxa --> ['x', 'x', 'x', 'a']\n",
      "Input ~ output: yyya --> ['y', 'y', 'y', 'a']\n",
      "Input ~ output: zzza --> ['z', 'z', 'z', 'a']\n"
     ]
    }
   ],
   "source": [
    "for char in alphabet:\n",
    "    string = char + char + char + \"a\"\n",
    "    print(\"Input ~ output:\", string, \"-->\", predictor(string)[0])"
   ]
  },
  {
   "cell_type": "code",
   "execution_count": 28,
   "id": "bbd8e970",
   "metadata": {},
   "outputs": [
    {
     "name": "stdout",
     "output_type": "stream",
     "text": [
      "Input ~ output: aaaaaa --> ['a', 'a', 'a', 'a', 'a', 'a']\n",
      "Input ~ output: bbabba --> ['b', 'b', 'a', 'b', 'b', 'a']\n",
      "Input ~ output: ccacca --> ['c', 'c', 'aca', 'c', 'c', 'a']\n",
      "Input ~ output: ddadda --> ['d', 'd', 'ada', 'd', 'd', 'a']\n",
      "Input ~ output: eeaeea --> ['e', 'e', 'a', 'e', 'e', 'a']\n",
      "Input ~ output: ffaffa --> ['f', 'f', 'afa', 'f', 'f', 'a']\n",
      "Input ~ output: ggagga --> ['g', 'g', 'aga', 'g', 'g', 'a']\n",
      "Input ~ output: hhahha --> ['h', 'h', 'aha', 'h', 'h', 'a']\n",
      "Input ~ output: iiaiia --> ['i', 'i', 'a', 'i', 'i', 'a']\n",
      "Input ~ output: jjajja --> ['j', 'j', 'aja', 'j', 'j', 'a']\n",
      "Input ~ output: kkakka --> ['k', 'k', 'aka', 'k', 'k', 'a']\n",
      "Input ~ output: llalla --> ['l', 'l', 'ala', 'l', 'l', 'a']\n",
      "Input ~ output: mmamma --> ['m', 'm', 'ama', 'm', 'm', 'a']\n",
      "Input ~ output: nnanna --> ['n', 'n', 'ana', 'n', 'n', 'a']\n",
      "Input ~ output: ooaooa --> ['o', 'o', 'a', 'o', 'o', 'a']\n",
      "Input ~ output: ppappa --> ['p', 'p', 'apa', 'p', 'p', 'a']\n",
      "Input ~ output: qqaqqa --> ['q', 'q', 'aqa', 'q', 'q', 'a']\n",
      "Input ~ output: rrarra --> ['r', 'r', 'ara', 'r', 'r', 'a']\n",
      "Input ~ output: ssassa --> ['s', 's', 'asa', 's', 's', 'a']\n",
      "Input ~ output: ttatta --> ['t', 't', 'a', 't', 't', 'a']\n",
      "Input ~ output: uuauua --> ['u', 'u', 'a', 'u', 'u', 'a']\n",
      "Input ~ output: vvavva --> ['v', 'v', 'a', 'v', 'v', 'a']\n",
      "Input ~ output: wwawwa --> ['w', 'w', 'a', 'w', 'w', 'a']\n",
      "Input ~ output: xxaxxa --> ['x', 'x', 'axa', 'x', 'x', 'a']\n",
      "Input ~ output: yyayya --> ['y', 'y', 'a', 'y', 'y', 'a']\n",
      "Input ~ output: zzazza --> ['z', 'z', 'a', 'z', 'z', 'a']\n"
     ]
    }
   ],
   "source": [
    "for char in alphabet:\n",
    "    string = char + char + \"a\" + char + char + \"a\"\n",
    "    print(\"Input ~ output:\", string, \"-->\", predictor(string)[0])"
   ]
  }
 ],
 "metadata": {
  "kernelspec": {
   "display_name": "Python 3 (ipykernel)",
   "language": "python",
   "name": "python3"
  },
  "language_info": {
   "codemirror_mode": {
    "name": "ipython",
    "version": 3
   },
   "file_extension": ".py",
   "mimetype": "text/x-python",
   "name": "python",
   "nbconvert_exporter": "python",
   "pygments_lexer": "ipython3",
   "version": "3.9.6"
  }
 },
 "nbformat": 4,
 "nbformat_minor": 5
}
