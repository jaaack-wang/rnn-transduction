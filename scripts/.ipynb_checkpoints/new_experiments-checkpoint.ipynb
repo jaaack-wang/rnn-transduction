{
 "cells": [
  {
   "cell_type": "code",
   "execution_count": 1,
   "id": "b7a1d09a",
   "metadata": {},
   "outputs": [],
   "source": [
    "from pytorch_utils import *\n",
    "from dataloader import *\n",
    "from visualization import *\n",
    "from model import *\n",
    "from string import ascii_lowercase\n",
    "import random\n",
    "import torch.optim as optim"
   ]
  },
  {
   "cell_type": "code",
   "execution_count": null,
   "id": "ac52ffc0",
   "metadata": {},
   "outputs": [],
   "source": []
  },
  {
   "cell_type": "markdown",
   "id": "3a9791f9",
   "metadata": {},
   "source": [
    "# Define in_vocab and out_vocab"
   ]
  },
  {
   "cell_type": "code",
   "execution_count": 2,
   "id": "af47d66b",
   "metadata": {},
   "outputs": [],
   "source": [
    "vocab = ascii_lowercase \n",
    "V = [\"a\", \"e\", \"i\", \"o\", \"u\"]\n",
    "C = [char for char in vocab if char not in V]\n",
    "trans_map = {}\n",
    "move = 3\n",
    "n = len(vocab)\n",
    "\n",
    "for i in range(n):\n",
    "    trans_map[vocab[i]] = vocab[(i+move) % n]"
   ]
  },
  {
   "cell_type": "code",
   "execution_count": 3,
   "id": "d3470f6a",
   "metadata": {},
   "outputs": [],
   "source": [
    "for c in C:\n",
    "    for v in V:\n",
    "        trans_map[c+v] = v+c+v"
   ]
  },
  {
   "cell_type": "code",
   "execution_count": null,
   "id": "81ee913a",
   "metadata": {},
   "outputs": [],
   "source": []
  },
  {
   "cell_type": "code",
   "execution_count": 4,
   "id": "f16ce83c",
   "metadata": {},
   "outputs": [
    {
     "name": "stdout",
     "output_type": "stream",
     "text": [
      "['a', 'b', 'c', 'd', 'e', 'f', 'g', 'h', 'i', 'j', 'k', 'l', 'm', 'n', 'o', 'p', 'q', 'r', 's', 't', 'u', 'v', 'w', 'x', 'y', 'z']\n",
      "['d', 'e', 'f', 'g', 'h', 'i', 'j', 'k', 'l', 'm', 'n', 'o', 'p', 'q', 'r', 's', 't', 'u', 'v', 'w', 'x', 'y', 'z', 'a', 'b', 'c', 'aba', 'ebe', 'ibi', 'obo', 'ubu', 'aca', 'ece', 'ici', 'oco', 'ucu', 'ada', 'ede', 'idi', 'odo', 'udu', 'afa', 'efe', 'ifi', 'ofo', 'ufu', 'aga', 'ege', 'igi', 'ogo', 'ugu', 'aha', 'ehe', 'ihi', 'oho', 'uhu', 'aja', 'eje', 'iji', 'ojo', 'uju', 'aka', 'eke', 'iki', 'oko', 'uku', 'ala', 'ele', 'ili', 'olo', 'ulu', 'ama', 'eme', 'imi', 'omo', 'umu', 'ana', 'ene', 'ini', 'ono', 'unu', 'apa', 'epe', 'ipi', 'opo', 'upu', 'aqa', 'eqe', 'iqi', 'oqo', 'uqu', 'ara', 'ere', 'iri', 'oro', 'uru', 'asa', 'ese', 'isi', 'oso', 'usu', 'ata', 'ete', 'iti', 'oto', 'utu', 'ava', 'eve', 'ivi', 'ovo', 'uvu', 'awa', 'ewe', 'iwi', 'owo', 'uwu', 'axa', 'exe', 'ixi', 'oxo', 'uxu', 'aya', 'eye', 'iyi', 'oyo', 'uyu', 'aza', 'eze', 'izi', 'ozo', 'uzu']\n",
      "['d', 'e', 'f', 'g', 'h', 'i', 'j', 'k', 'l', 'm', 'n', 'o', 'p', 'q', 'r', 's', 't', 'u', 'v', 'w', 'x', 'y', 'z', 'a', 'b', 'c', 'aba', 'ebe', 'ibi', 'obo', 'ubu', 'aca', 'ece', 'ici', 'oco', 'ucu', 'ada', 'ede', 'idi', 'odo', 'udu', 'afa', 'efe', 'ifi', 'ofo', 'ufu', 'aga', 'ege', 'igi', 'ogo', 'ugu', 'aha', 'ehe', 'ihi', 'oho', 'uhu', 'aja', 'eje', 'iji', 'ojo', 'uju', 'aka', 'eke', 'iki', 'oko', 'uku', 'ala', 'ele', 'ili', 'olo', 'ulu', 'ama', 'eme', 'imi', 'omo', 'umu', 'ana', 'ene', 'ini', 'ono', 'unu', 'apa', 'epe', 'ipi', 'opo', 'upu', 'aqa', 'eqe', 'iqi', 'oqo', 'uqu', 'ara', 'ere', 'iri', 'oro', 'uru', 'asa', 'ese', 'isi', 'oso', 'usu', 'ata', 'ete', 'iti', 'oto', 'utu', 'ava', 'eve', 'ivi', 'ovo', 'uvu', 'awa', 'ewe', 'iwi', 'owo', 'uwu', 'axa', 'exe', 'ixi', 'oxo', 'uxu', 'aya', 'eye', 'iyi', 'oyo', 'uyu', 'aza', 'eze', 'izi', 'ozo', 'uzu']\n"
     ]
    }
   ],
   "source": [
    "in_vocab = list(vocab)\n",
    "out_vocab = list(trans_map.values())\n",
    "all_vocab = out_vocab\n",
    "# all_vocab = list(set(in_vocab + out_vocab))\n",
    "print(in_vocab)\n",
    "print(out_vocab)\n",
    "print(all_vocab)"
   ]
  },
  {
   "cell_type": "code",
   "execution_count": null,
   "id": "b3d3d222",
   "metadata": {},
   "outputs": [],
   "source": []
  },
  {
   "cell_type": "code",
   "execution_count": null,
   "id": "09e38c7b",
   "metadata": {},
   "outputs": [],
   "source": []
  },
  {
   "cell_type": "code",
   "execution_count": null,
   "id": "423625fe",
   "metadata": {},
   "outputs": [],
   "source": []
  },
  {
   "cell_type": "code",
   "execution_count": 5,
   "id": "9e35a447",
   "metadata": {},
   "outputs": [],
   "source": [
    "encoder, decoder = get_text_encoder_decoder(all_vocab)"
   ]
  },
  {
   "cell_type": "code",
   "execution_count": 6,
   "id": "6e2d2d9c",
   "metadata": {},
   "outputs": [
    {
     "data": {
      "text/plain": [
       "[86, 23]"
      ]
     },
     "execution_count": 6,
     "metadata": {},
     "output_type": "execute_result"
    }
   ],
   "source": [
    "encoder([\"aqa\", \"a\"])"
   ]
  },
  {
   "cell_type": "code",
   "execution_count": 7,
   "id": "b1c5709c",
   "metadata": {},
   "outputs": [
    {
     "data": {
      "text/plain": [
       "['aqa', 'a']"
      ]
     },
     "execution_count": 7,
     "metadata": {},
     "output_type": "execute_result"
    }
   ],
   "source": [
    "decoder([86, 23])"
   ]
  },
  {
   "cell_type": "code",
   "execution_count": null,
   "id": "20e4f687",
   "metadata": {},
   "outputs": [],
   "source": []
  },
  {
   "cell_type": "code",
   "execution_count": 8,
   "id": "e15cb9e7",
   "metadata": {},
   "outputs": [],
   "source": [
    "def transduce_str(string, sep=\"\"):\n",
    "    if len(string) > 1 and string[0] in C and string[1] in V:\n",
    "        return string[0:1] + [f\"{sep}\".join(string[1]+string[0]+string[1])] + string[2:] \n",
    "    \n",
    "    return string\n",
    "    \n",
    "#     out = [trans_map[char] for char in string]\n",
    "#     return f\"{sep}\".join(out)"
   ]
  },
  {
   "cell_type": "code",
   "execution_count": null,
   "id": "23ba7cf9",
   "metadata": {},
   "outputs": [],
   "source": []
  },
  {
   "cell_type": "code",
   "execution_count": 10,
   "id": "2519220c",
   "metadata": {},
   "outputs": [
    {
     "ename": "NameError",
     "evalue": "name 'json' is not defined",
     "output_type": "error",
     "traceback": [
      "\u001b[0;31m---------------------------------------------------------------------------\u001b[0m",
      "\u001b[0;31mNameError\u001b[0m                                 Traceback (most recent call last)",
      "\u001b[0;32m/var/folders/w9/d_nplhzj4qx35xxlgljgdtjh0000gn/T/ipykernel_47855/2132714063.py\u001b[0m in \u001b[0;36m<module>\u001b[0;34m\u001b[0m\n\u001b[1;32m      1\u001b[0m \u001b[0;32mwith\u001b[0m \u001b[0mopen\u001b[0m\u001b[0;34m(\u001b[0m\u001b[0;34m'ModelConfig.json'\u001b[0m\u001b[0;34m,\u001b[0m \u001b[0;34m'w'\u001b[0m\u001b[0;34m)\u001b[0m \u001b[0;32mas\u001b[0m \u001b[0mf\u001b[0m\u001b[0;34m:\u001b[0m\u001b[0;34m\u001b[0m\u001b[0;34m\u001b[0m\u001b[0m\n\u001b[0;32m----> 2\u001b[0;31m     \u001b[0mjson\u001b[0m\u001b[0;34m.\u001b[0m\u001b[0mdump\u001b[0m\u001b[0;34m(\u001b[0m\u001b[0mModelConfig\u001b[0m\u001b[0;34m,\u001b[0m \u001b[0mf\u001b[0m\u001b[0;34m,\u001b[0m \u001b[0mindent\u001b[0m\u001b[0;34m=\u001b[0m\u001b[0;36m4\u001b[0m\u001b[0;34m)\u001b[0m\u001b[0;34m\u001b[0m\u001b[0;34m\u001b[0m\u001b[0m\n\u001b[0m",
      "\u001b[0;31mNameError\u001b[0m: name 'json' is not defined"
     ]
    }
   ],
   "source": [
    "with open('ModelConfig.json', 'w') as f:\n",
    "    json.dump(ModelConfig, f, indent=4)"
   ]
  },
  {
   "cell_type": "code",
   "execution_count": 595,
   "id": "edf31c53",
   "metadata": {},
   "outputs": [],
   "source": [
    "c = json.load(open(\"config.json\", \"r\"))"
   ]
  },
  {
   "cell_type": "code",
   "execution_count": 596,
   "id": "0169861e",
   "metadata": {},
   "outputs": [
    {
     "data": {
      "text/plain": [
       "{'bias': True,\n",
       " 'rnn_type': 'LSTM',\n",
       " 'embd_dim': 8,\n",
       " 'num_layers': 1,\n",
       " 'hidden_size': 8,\n",
       " 'dropout_rate': 0.0,\n",
       " 'bidirectional': False,\n",
       " 'in_vocab_size': 26,\n",
       " 'out_vocab_size': 131,\n",
       " 'reduction_method': 'sum'}"
      ]
     },
     "execution_count": 596,
     "metadata": {},
     "output_type": "execute_result"
    }
   ],
   "source": [
    "c"
   ]
  },
  {
   "cell_type": "code",
   "execution_count": 630,
   "id": "6ad3d8ba",
   "metadata": {},
   "outputs": [
    {
     "name": "stdout",
     "output_type": "stream",
     "text": [
      "The model has 1,963 trainable parameters\n"
     ]
    }
   ],
   "source": [
    "model = get_model(ModelConfig)"
   ]
  },
  {
   "cell_type": "code",
   "execution_count": 631,
   "id": "4b44db7c",
   "metadata": {},
   "outputs": [
    {
     "data": {
      "text/plain": [
       "<All keys matched successfully>"
      ]
     },
     "execution_count": 631,
     "metadata": {},
     "output_type": "execute_result"
    }
   ],
   "source": [
    "model.load_state_dict(torch.load(\"model.pt\"))"
   ]
  },
  {
   "cell_type": "code",
   "execution_count": null,
   "id": "1704c8eb",
   "metadata": {},
   "outputs": [],
   "source": []
  },
  {
   "cell_type": "code",
   "execution_count": null,
   "id": "4a8ce91c",
   "metadata": {},
   "outputs": [],
   "source": []
  },
  {
   "cell_type": "code",
   "execution_count": null,
   "id": "4a20c4c7",
   "metadata": {},
   "outputs": [],
   "source": []
  },
  {
   "cell_type": "code",
   "execution_count": 9,
   "id": "7bb9b876",
   "metadata": {},
   "outputs": [],
   "source": [
    "def get_model(ModelConfig, init_method=init.xavier_uniform_):\n",
    "    in_vocab_size = ModelConfig[\"in_vocab_size\"]\n",
    "    out_vocab_size = ModelConfig[\"out_vocab_size\"]\n",
    "    hidden_size = ModelConfig[\"hidden_size\"]\n",
    "    embd_dim = ModelConfig[\"embd_dim\"]\n",
    "    num_layers = ModelConfig[\"num_layers\"]\n",
    "    rnn_type = ModelConfig[\"rnn_type\"]\n",
    "    bias = ModelConfig[\"bias\"]\n",
    "    dropout_rate = ModelConfig[\"dropout_rate\"]\n",
    "    bidirectional = ModelConfig[\"bidirectional\"]\n",
    "    \n",
    "    reduction_method = ModelConfig[\"reduction_method\"].lower()\n",
    "    if reduction_method == \"sum\":\n",
    "        reduction_method = torch.sum\n",
    "    elif reduction_method == \"mean\":\n",
    "        reduction_method = torch.mean\n",
    "    else:\n",
    "        raise TypeError(\"reduction_method must be either sum or mean.\")\n",
    "    \n",
    "    device = torch.device('cuda' if torch.cuda.is_available() else 'cpu')\n",
    "    \n",
    "    model = RNN(in_vocab_size, out_vocab_size, \n",
    "            hidden_size, embd_dim, num_layers, \n",
    "            rnn_type, device, bias, dropout_rate, \n",
    "            bidirectional, reduction_method)\n",
    "    \n",
    "    if init_method != None:\n",
    "        init_weights(model, init_method)\n",
    "    \n",
    "    n = count_parameters(model)\n",
    "    print(f'The model has {n:,} trainable parameters')\n",
    "    return model"
   ]
  },
  {
   "cell_type": "code",
   "execution_count": null,
   "id": "6c1e91de",
   "metadata": {},
   "outputs": [],
   "source": []
  },
  {
   "cell_type": "code",
   "execution_count": 10,
   "id": "d702be75",
   "metadata": {},
   "outputs": [
    {
     "name": "stdout",
     "output_type": "stream",
     "text": [
      "The model has 1,963 trainable parameters\n"
     ]
    }
   ],
   "source": [
    "ModelConfig = {\"bias\": True, \n",
    "               \"rnn_type\": \"LSTM\",\n",
    "               \"embd_dim\": 8, \n",
    "               \"num_layers\": 1,\n",
    "               \"hidden_size\": 8, \n",
    "               \"dropout_rate\": 0.0,\n",
    "               \"bidirectional\": False,\n",
    "               \"in_vocab_size\": len(in_vocab), \n",
    "               \"out_vocab_size\": len(out_vocab),  \n",
    "               \"reduction_method\": \"sum\"}\n",
    "\n",
    "model = get_model(ModelConfig)"
   ]
  },
  {
   "cell_type": "code",
   "execution_count": null,
   "id": "0089dfa4",
   "metadata": {},
   "outputs": [],
   "source": [
    "# weight_decay = 1e-5\n",
    "# learning_rate = 1e-2\n",
    "# acc_threshold = 0.0\n",
    "# print_eval_freq = 1\n",
    "# max_epoch_num = 10\n",
    "# train_exit_acc = 1.0\n",
    "# eval_exit_acc = 1.0\n",
    "# saved_model_fp = \"model.pt\"\n",
    "# padding_idx = len(all_vocab)\n",
    "\n",
    "# TrainConfig = {\"weight_decay\": weight_decay, \n",
    "#                \"learning_rate\": learning_rate, \n",
    "#                \"acc_threshold\": acc_threshold, \n",
    "#                \"print_eval_freq\": print_eval_freq, \n",
    "#                \"max_epoch_num\": max_epoch_num, \n",
    "#                \"train_exit_acc\": train_exit_acc, \n",
    "#                \"eval_exit_acc\": eval_exit_acc, \n",
    "#                \"saved_model_fp\": saved_model_fp, \n",
    "#                \"vocab\": all_vocab, \"out_vocab\": None, \n",
    "#                \"tokenizer\": list, \"padding_idx\": padding_idx}"
   ]
  },
  {
   "cell_type": "code",
   "execution_count": null,
   "id": "665e3a15",
   "metadata": {},
   "outputs": [],
   "source": []
  },
  {
   "cell_type": "code",
   "execution_count": null,
   "id": "17483e5e",
   "metadata": {},
   "outputs": [],
   "source": []
  },
  {
   "cell_type": "code",
   "execution_count": null,
   "id": "d363f0f4",
   "metadata": {},
   "outputs": [],
   "source": []
  },
  {
   "cell_type": "code",
   "execution_count": 6,
   "id": "79dd3529",
   "metadata": {},
   "outputs": [],
   "source": [
    "def get_trained_model(saved_model_fp):\n",
    "    model_config_fp = saved_model_fp.replace(\".pt\", \"\")\n",
    "    model_config_fp += \"_ModelConfig.json\"\n",
    "    model = get_model(model_config_fp)\n",
    "    model.load_state_dict(torch.load(saved_model_fp))\n",
    "    return model"
   ]
  },
  {
   "cell_type": "code",
   "execution_count": null,
   "id": "b7bdeb72",
   "metadata": {},
   "outputs": [],
   "source": []
  },
  {
   "cell_type": "code",
   "execution_count": null,
   "id": "b50146a8",
   "metadata": {},
   "outputs": [],
   "source": []
  },
  {
   "cell_type": "code",
   "execution_count": null,
   "id": "b6588624",
   "metadata": {},
   "outputs": [],
   "source": []
  },
  {
   "cell_type": "code",
   "execution_count": 24,
   "id": "db84aa86",
   "metadata": {},
   "outputs": [],
   "source": [
    "train = []\n",
    "dev = []\n",
    "\n",
    "\n",
    "for c in C:\n",
    "    for v in V:\n",
    "        suffix = random.choices(in_vocab, k=8)\n",
    "        text = [c, v] + suffix\n",
    "        train.append([text, transduce_str(text)])\n",
    "        text = [c, v] + suffix[::-1]\n",
    "        dev.append([text, transduce_str(text)])    \n",
    "    \n",
    "for c in C:\n",
    "    for c in C:\n",
    "        suffix = random.choices(in_vocab, k=8)\n",
    "        text = [c, c] + suffix\n",
    "        train.append([text, transduce_str(text)])\n",
    "        text = [c, c] + suffix[::-1]\n",
    "        dev.append([text, transduce_str(text)])\n",
    "\n",
    "for v in V:\n",
    "    suffix = random.choices(in_vocab, k=9)\n",
    "    text = [v] + suffix\n",
    "    train.append([text, transduce_str(text)])\n",
    "    text = [v] + suffix[::-1]\n",
    "    dev.append([text, transduce_str(text)])   \n",
    "\n",
    "    \n",
    "for _ in range(100):\n",
    "    text = random.choices(in_vocab, k=10)\n",
    "    train.append([text, transduce_str(text)])\n",
    "    dev.append([text[::-1], transduce_str(text[::-1])])\n",
    "\n",
    "\n",
    "random.shuffle(train)\n",
    "random.shuffle(dev)\n",
    "\n",
    "    \n",
    "#     train.append([text, [transduce_str(t) for t in text]])\n",
    "#     dev.append([text[::-1], [transduce_str(t) for t in text[::-1]]])\n",
    "#     t = ''.join(random.choices(ascii_lowercase, k=26))\n",
    "#     train.append([t, transduce_str(t)])\n",
    "#     dev.append([t[::-1], transduce_str(t[::-1])])\n",
    "\n",
    "\n",
    "dataloader_func = customize_dataloader_func(in_seq_encoder=encoder, \n",
    "                                            out_seq_encoder=encoder, \n",
    "                                            padding_idx=len(all_vocab), \n",
    "                                            shuffle=False,\n",
    "                                            batch_size=1000,\n",
    "                                            in_max_seq_len=None, \n",
    "                                            out_max_seq_len=None)\n",
    "\n",
    "train_dl = dataloader_func(train)\n",
    "dev_dl = dataloader_func(dev)"
   ]
  },
  {
   "cell_type": "code",
   "execution_count": 25,
   "id": "6044b7d1",
   "metadata": {},
   "outputs": [],
   "source": [
    "for X, Y in train_dl:\n",
    "    pass"
   ]
  },
  {
   "cell_type": "code",
   "execution_count": 26,
   "id": "c42298d3",
   "metadata": {},
   "outputs": [
    {
     "data": {
      "text/plain": [
       "(torch.Size([10, 651]), torch.Size([10, 651]))"
      ]
     },
     "execution_count": 26,
     "metadata": {},
     "output_type": "execute_result"
    }
   ],
   "source": [
    "X.shape, Y.shape"
   ]
  },
  {
   "cell_type": "code",
   "execution_count": null,
   "id": "cbeda342",
   "metadata": {},
   "outputs": [],
   "source": []
  },
  {
   "cell_type": "code",
   "execution_count": 666,
   "id": "927d264a",
   "metadata": {},
   "outputs": [],
   "source": [
    "import pickle"
   ]
  },
  {
   "cell_type": "code",
   "execution_count": 667,
   "id": "b1ca8c9d",
   "metadata": {},
   "outputs": [],
   "source": [
    "with open('TrainConfig.pickle', 'wb') as f:\n",
    "    pickle.dump(TrainConfig, f)"
   ]
  },
  {
   "cell_type": "code",
   "execution_count": 669,
   "id": "2e60d904",
   "metadata": {},
   "outputs": [],
   "source": [
    "c = pickle.load(open(\"TrainConfig.pickle\", \"rb\"))"
   ]
  },
  {
   "cell_type": "code",
   "execution_count": null,
   "id": "1b8ab91c",
   "metadata": {},
   "outputs": [],
   "source": []
  },
  {
   "cell_type": "code",
   "execution_count": null,
   "id": "f5d48968",
   "metadata": {},
   "outputs": [],
   "source": []
  },
  {
   "cell_type": "code",
   "execution_count": null,
   "id": "75d5b598",
   "metadata": {},
   "outputs": [],
   "source": []
  },
  {
   "cell_type": "code",
   "execution_count": null,
   "id": "045e9d4b",
   "metadata": {},
   "outputs": [],
   "source": []
  },
  {
   "cell_type": "code",
   "execution_count": 642,
   "id": "50231a0e",
   "metadata": {},
   "outputs": [
    {
     "data": {
      "text/plain": [
       "[7, 18, 0, 9, 7, 10, 9, 11, 3]"
      ]
     },
     "execution_count": 642,
     "metadata": {},
     "output_type": "execute_result"
    }
   ],
   "source": [
    "TrainConfig[\"encoder\"](\"hsajhkjld\")"
   ]
  },
  {
   "cell_type": "code",
   "execution_count": 643,
   "id": "815848e8",
   "metadata": {},
   "outputs": [
    {
     "data": {
      "text/plain": [
       "['h', 's', 'a', 'j', 'h', 'k', 'j', 'l', 'd']"
      ]
     },
     "execution_count": 643,
     "metadata": {},
     "output_type": "execute_result"
    }
   ],
   "source": [
    "decoder([7, 18, 0, 9, 7, 10, 9, 11, 3])"
   ]
  },
  {
   "cell_type": "code",
   "execution_count": null,
   "id": "465b80b0",
   "metadata": {},
   "outputs": [],
   "source": []
  },
  {
   "cell_type": "code",
   "execution_count": null,
   "id": "c955c6b1",
   "metadata": {},
   "outputs": [],
   "source": []
  },
  {
   "cell_type": "code",
   "execution_count": null,
   "id": "b2d533bd",
   "metadata": {},
   "outputs": [],
   "source": [
    "def main(config):\n",
    "    ModelConfig = config[\"ModelConfig\"]\n",
    "    model = get_model(ModelConfig)\n",
    "    model.apply(init_weights)\n",
    "    \n",
    "    TrainConfig = config[\"TrainConfig\"]\n",
    "    learning_rate = TrainConfig[\"learning_rate\"]\n",
    "    weight_decay = TrainConfig[\"weight_decay\"]\n",
    "    criterion = nn.CrossEntropyLoss()\n",
    "    optimizer = optim.Adam(model.parameters(), \n",
    "                           lr=learning_rate,\n",
    "                           weight_decay=weight_decay)\n",
    "    \n",
    "    saved_model_path = TrainConfig[\"saved_model_path\"]\n",
    "    acc_threshold = TrainConfig[\"acc_threshold\"]\n",
    "    print_eval_freq = TrainConfig[\"print_eval_freq\"]\n",
    "    max_epoch_num = TrainConfig[\"max_epoch_num\"]\n",
    "    train_exit_acc = TrainConfig[\"train_exit_acc\"]\n",
    "    eval_exit_acc = TrainConfig[\"eval_exit_acc\"]"
   ]
  },
  {
   "cell_type": "code",
   "execution_count": null,
   "id": "245a289c",
   "metadata": {},
   "outputs": [],
   "source": []
  },
  {
   "cell_type": "code",
   "execution_count": null,
   "id": "777697dd",
   "metadata": {},
   "outputs": [],
   "source": []
  },
  {
   "cell_type": "code",
   "execution_count": null,
   "id": "3bbb8d82",
   "metadata": {},
   "outputs": [],
   "source": []
  },
  {
   "cell_type": "code",
   "execution_count": 27,
   "id": "95b179b8",
   "metadata": {
    "scrolled": true
   },
   "outputs": [
    {
     "name": "stdout",
     "output_type": "stream",
     "text": [
      "Current epoch: 200, \n",
      "training performance: {'loss': 0.5131939649581909, 'full sequence accuracy': 0.6574500768049155, 'first n-symbol accuracy': 0.7625192012288786, 'overlap rate': 0.962058371735791}\n",
      "evaluation performance: {'loss': 0.5146777033805847, 'full sequence accuracy': 0.6482334869431644, 'first n-symbol accuracy': 0.7554531490015362, 'overlap rate': 0.9606758832565285}\n",
      "\n",
      "Current epoch: 400, \n",
      "training performance: {'loss': 0.17393973469734192, 'full sequence accuracy': 0.8187403993855606, 'first n-symbol accuracy': 0.8368663594470046, 'overlap rate': 0.9818740399385562}\n",
      "evaluation performance: {'loss': 0.1761278510093689, 'full sequence accuracy': 0.8202764976958525, 'first n-symbol accuracy': 0.8382488479262673, 'overlap rate': 0.9820276497695853}\n",
      "\n",
      "Current epoch: 600, \n",
      "training performance: {'loss': 0.12234577536582947, 'full sequence accuracy': 0.8187403993855606, 'first n-symbol accuracy': 0.8368663594470046, 'overlap rate': 0.9818740399385562}\n",
      "evaluation performance: {'loss': 0.12547902762889862, 'full sequence accuracy': 0.8187403993855606, 'first n-symbol accuracy': 0.8368663594470046, 'overlap rate': 0.9815668202764977}\n",
      "\n",
      "Current epoch: 800, \n",
      "training performance: {'loss': 0.09855233877897263, 'full sequence accuracy': 0.8310291858678955, 'first n-symbol accuracy': 0.847926267281106, 'overlap rate': 0.9831029185867896}\n",
      "evaluation performance: {'loss': 0.10278680175542831, 'full sequence accuracy': 0.8294930875576036, 'first n-symbol accuracy': 0.8466973886328725, 'overlap rate': 0.9829493087557605}\n",
      "\n",
      "Current epoch: 1000, \n",
      "training performance: {'loss': 0.08417016267776489, 'full sequence accuracy': 0.8387096774193549, 'first n-symbol accuracy': 0.8548387096774194, 'overlap rate': 0.9838709677419355}\n",
      "evaluation performance: {'loss': 0.08916477113962173, 'full sequence accuracy': 0.8325652841781874, 'first n-symbol accuracy': 0.8497695852534562, 'overlap rate': 0.9831029185867896}\n",
      "\n",
      "Current epoch: 1200, \n",
      "training performance: {'loss': 0.07396255433559418, 'full sequence accuracy': 0.8433179723502304, 'first n-symbol accuracy': 0.8589861751152074, 'overlap rate': 0.984331797235023}\n",
      "evaluation performance: {'loss': 0.07964379340410233, 'full sequence accuracy': 0.8341013824884793, 'first n-symbol accuracy': 0.8514592933947772, 'overlap rate': 0.9832565284178187}\n",
      "\n",
      "Current epoch: 1400, \n",
      "training performance: {'loss': 0.06599849462509155, 'full sequence accuracy': 0.8494623655913979, 'first n-symbol accuracy': 0.864516129032258, 'overlap rate': 0.9849462365591397}\n",
      "evaluation performance: {'loss': 0.07206637412309647, 'full sequence accuracy': 0.8387096774193549, 'first n-symbol accuracy': 0.8556067588325653, 'overlap rate': 0.9837173579109063}\n",
      "\n",
      "Current epoch: 1600, \n",
      "training performance: {'loss': 0.05798356235027313, 'full sequence accuracy': 0.8617511520737328, 'first n-symbol accuracy': 0.8755760368663594, 'overlap rate': 0.9861751152073732}\n",
      "evaluation performance: {'loss': 0.06427567452192307, 'full sequence accuracy': 0.8494623655913979, 'first n-symbol accuracy': 0.8654377880184332, 'overlap rate': 0.9847926267281106}\n",
      "\n",
      "Current epoch: 1800, \n",
      "training performance: {'loss': 0.0509633794426918, 'full sequence accuracy': 0.8847926267281107, 'first n-symbol accuracy': 0.8963133640552995, 'overlap rate': 0.988479262672811}\n",
      "evaluation performance: {'loss': 0.05798407271504402, 'full sequence accuracy': 0.8678955453149002, 'first n-symbol accuracy': 0.8821812596006144, 'overlap rate': 0.9863287250384023}\n",
      "\n",
      "Current epoch: 2000, \n",
      "training performance: {'loss': 0.04569466412067413, 'full sequence accuracy': 0.8924731182795699, 'first n-symbol accuracy': 0.9032258064516129, 'overlap rate': 0.989247311827957}\n",
      "evaluation performance: {'loss': 0.05303051322698593, 'full sequence accuracy': 0.8771121351766513, 'first n-symbol accuracy': 0.8904761904761904, 'overlap rate': 0.9872503840245777}\n",
      "\n",
      "Current epoch: 2200, \n",
      "training performance: {'loss': 0.04173804819583893, 'full sequence accuracy': 0.9109062980030722, 'first n-symbol accuracy': 0.919815668202765, 'overlap rate': 0.9910906298003072}\n",
      "evaluation performance: {'loss': 0.049223966896533966, 'full sequence accuracy': 0.890937019969278, 'first n-symbol accuracy': 0.9029185867895545, 'overlap rate': 0.9887864823348695}\n",
      "\n",
      "Current epoch: 2400, \n",
      "training performance: {'loss': 0.038239866495132446, 'full sequence accuracy': 0.9201228878648233, 'first n-symbol accuracy': 0.928110599078341, 'overlap rate': 0.9920122887864823}\n",
      "evaluation performance: {'loss': 0.04599156975746155, 'full sequence accuracy': 0.9001536098310292, 'first n-symbol accuracy': 0.9112135176651306, 'overlap rate': 0.9895545314900154}\n",
      "\n",
      "Current epoch: 2600, \n",
      "training performance: {'loss': 0.034916989505290985, 'full sequence accuracy': 0.9339477726574501, 'first n-symbol accuracy': 0.9405529953917051, 'overlap rate': 0.9933947772657449}\n",
      "evaluation performance: {'loss': 0.0428217351436615, 'full sequence accuracy': 0.9155145929339478, 'first n-symbol accuracy': 0.9250384024577573, 'overlap rate': 0.9910906298003073}\n",
      "\n",
      "Current epoch: 2800, \n",
      "training performance: {'loss': 0.03235185518860817, 'full sequence accuracy': 0.946236559139785, 'first n-symbol accuracy': 0.9516129032258065, 'overlap rate': 0.9946236559139785}\n",
      "evaluation performance: {'loss': 0.0403037890791893, 'full sequence accuracy': 0.9278033794162827, 'first n-symbol accuracy': 0.9365591397849462, 'overlap rate': 0.9926267281105992}\n",
      "\n",
      "Current epoch: 3000, \n",
      "training performance: {'loss': 0.030147822573781013, 'full sequence accuracy': 0.9523809523809523, 'first n-symbol accuracy': 0.9571428571428572, 'overlap rate': 0.9952380952380953}\n",
      "evaluation performance: {'loss': 0.03942891210317612, 'full sequence accuracy': 0.9324116743471582, 'first n-symbol accuracy': 0.9407066052227343, 'overlap rate': 0.9930875576036866}\n",
      "\n",
      "Current epoch: 3200, \n",
      "training performance: {'loss': 0.028486808761954308, 'full sequence accuracy': 0.9585253456221198, 'first n-symbol accuracy': 0.9626728110599079, 'overlap rate': 0.9958525345622119}\n",
      "evaluation performance: {'loss': 0.039148490875959396, 'full sequence accuracy': 0.9370199692780338, 'first n-symbol accuracy': 0.9456221198156682, 'overlap rate': 0.9935483870967743}\n",
      "\n",
      "Current epoch: 3400, \n",
      "training performance: {'loss': 0.027244457975029945, 'full sequence accuracy': 0.9600614439324117, 'first n-symbol accuracy': 0.9640552995391705, 'overlap rate': 0.9960061443932411}\n",
      "evaluation performance: {'loss': 0.03863746300339699, 'full sequence accuracy': 0.9354838709677419, 'first n-symbol accuracy': 0.9445468509984639, 'overlap rate': 0.9933947772657451}\n",
      "\n",
      "Current epoch: 3600, \n",
      "training performance: {'loss': 0.02570362202823162, 'full sequence accuracy': 0.967741935483871, 'first n-symbol accuracy': 0.9709677419354839, 'overlap rate': 0.9967741935483873}\n",
      "evaluation performance: {'loss': 0.038036517798900604, 'full sequence accuracy': 0.9431643625192012, 'first n-symbol accuracy': 0.9514592933947773, 'overlap rate': 0.9940092165898617}\n",
      "\n",
      "Current epoch: 3800, \n",
      "training performance: {'loss': 0.024670429527759552, 'full sequence accuracy': 0.9738863287250384, 'first n-symbol accuracy': 0.9764976958525345, 'overlap rate': 0.9973886328725038}\n",
      "evaluation performance: {'loss': 0.03848980739712715, 'full sequence accuracy': 0.946236559139785, 'first n-symbol accuracy': 0.954531490015361, 'overlap rate': 0.994162826420891}\n",
      "\n",
      "Current epoch: 4000, \n",
      "training performance: {'loss': 0.023975519463419914, 'full sequence accuracy': 0.978494623655914, 'first n-symbol accuracy': 0.9806451612903225, 'overlap rate': 0.9978494623655915}\n",
      "evaluation performance: {'loss': 0.03906987980008125, 'full sequence accuracy': 0.9447004608294931, 'first n-symbol accuracy': 0.9542242703533026, 'overlap rate': 0.9941628264208908}\n",
      "\n",
      "Current epoch: 4200, \n",
      "training performance: {'loss': 0.023169545456767082, 'full sequence accuracy': 0.9831029185867896, 'first n-symbol accuracy': 0.9847926267281106, 'overlap rate': 0.9983102918586789}\n",
      "evaluation performance: {'loss': 0.03936800733208656, 'full sequence accuracy': 0.9477726574500768, 'first n-symbol accuracy': 0.9571428571428572, 'overlap rate': 0.9943164362519202}\n",
      "\n",
      "Current epoch: 4400, \n",
      "training performance: {'loss': 0.0221933014690876, 'full sequence accuracy': 0.9846390168970814, 'first n-symbol accuracy': 0.9861751152073732, 'overlap rate': 0.9984639016897081}\n",
      "evaluation performance: {'loss': 0.03915049880743027, 'full sequence accuracy': 0.9508448540706606, 'first n-symbol accuracy': 0.9599078341013825, 'overlap rate': 0.9944700460829493}\n",
      "\n"
     ]
    },
    {
     "name": "stdout",
     "output_type": "stream",
     "text": [
      "Current epoch: 4600, \n",
      "training performance: {'loss': 0.021612998098134995, 'full sequence accuracy': 0.9877112135176651, 'first n-symbol accuracy': 0.9889400921658986, 'overlap rate': 0.9987711213517666}\n",
      "evaluation performance: {'loss': 0.03869127854704857, 'full sequence accuracy': 0.9554531490015361, 'first n-symbol accuracy': 0.9635944700460829, 'overlap rate': 0.9949308755760368}\n",
      "\n",
      "Current epoch: 4800, \n",
      "training performance: {'loss': 0.02115793153643608, 'full sequence accuracy': 0.989247311827957, 'first n-symbol accuracy': 0.9903225806451613, 'overlap rate': 0.9989247311827957}\n",
      "evaluation performance: {'loss': 0.039291977882385254, 'full sequence accuracy': 0.9554531490015361, 'first n-symbol accuracy': 0.9640552995391705, 'overlap rate': 0.9947772657450076}\n",
      "\n",
      "Current epoch: 5000, \n",
      "training performance: {'loss': 0.020631346851587296, 'full sequence accuracy': 0.9938556067588326, 'first n-symbol accuracy': 0.9944700460829493, 'overlap rate': 0.9993855606758831}\n",
      "evaluation performance: {'loss': 0.041541244834661484, 'full sequence accuracy': 0.9600614439324117, 'first n-symbol accuracy': 0.9683563748079878, 'overlap rate': 0.9946236559139785}\n",
      "\n",
      "model.pt saved!\n",
      "\n"
     ]
    }
   ],
   "source": [
    "criterion = nn.CrossEntropyLoss()\n",
    "optimizer = optim.Adam(model.parameters(), lr=1e-2, weight_decay=1e-5)\n",
    "\n",
    "log = train_and_evaluate(model, train_dl, dev_dl, criterion, optimizer, \n",
    "                         saved_model_fp=\"model.pt\", acc_threshold=0.0, \n",
    "                         print_eval_freq=200, max_epoch_num=5000, \n",
    "                         train_exit_acc=1.0, eval_exit_acc=1.0)"
   ]
  },
  {
   "cell_type": "code",
   "execution_count": 28,
   "id": "47241e65",
   "metadata": {},
   "outputs": [
    {
     "data": {
      "image/png": "[encoded data removed]",
      "text/plain": [
       "<Figure size 1152x576 with 4 Axes>"
      ]
     },
     "metadata": {
      "needs_background": "light"
     },
     "output_type": "display_data"
    }
   ],
   "source": [
    "plot_training_log(log)"
   ]
  },
  {
   "cell_type": "code",
   "execution_count": 35,
   "id": "95a94ca0",
   "metadata": {},
   "outputs": [],
   "source": [
    "test = []\n",
    "\n",
    "for _ in range(1000):\n",
    "    text = random.choices(vocab, k=5000)\n",
    "    test.append([text, transduce_str(text)])\n",
    "    \n",
    "test_dl = dataloader_func(test)"
   ]
  },
  {
   "cell_type": "code",
   "execution_count": 36,
   "id": "6f83031b",
   "metadata": {},
   "outputs": [
    {
     "data": {
      "text/plain": [
       "{'loss': 0.0028646865393966436,\n",
       " 'full sequence accuracy': 0.949,\n",
       " 'first n-symbol accuracy': 0.9496892,\n",
       " 'overlap rate': 0.9999866}"
      ]
     },
     "execution_count": 36,
     "metadata": {},
     "output_type": "execute_result"
    }
   ],
   "source": [
    "evaluate(model, test_dl, criterion)"
   ]
  },
  {
   "cell_type": "code",
   "execution_count": 48,
   "id": "1dd111ad",
   "metadata": {},
   "outputs": [
    {
     "data": {
      "text/plain": [
       "['abcdefghijklmnopqrstuvwxyz', 'babasdghajhk', 'bbasdghajhk']"
      ]
     },
     "execution_count": 48,
     "metadata": {},
     "output_type": "execute_result"
    }
   ],
   "source": [
    "texts = [ascii_lowercase, \"basdghajhk\", \"bbasdghajhk\"]\n",
    "# texts = [list(t) for t in texts]\n",
    "predict(model, texts, dataloader_func, decoder, batch_size=1)"
   ]
  },
  {
   "cell_type": "code",
   "execution_count": 45,
   "id": "7a6ea497",
   "metadata": {},
   "outputs": [
    {
     "data": {
      "text/plain": [
       "['b', 'aba', 'b']"
      ]
     },
     "execution_count": 45,
     "metadata": {},
     "output_type": "execute_result"
    }
   ],
   "source": [
    "predict_next(model, \"bab\", encoder, decoder, re_start=True)"
   ]
  },
  {
   "cell_type": "code",
   "execution_count": null,
   "id": "4037bed4",
   "metadata": {},
   "outputs": [],
   "source": []
  },
  {
   "cell_type": "code",
   "execution_count": 632,
   "id": "9ee43f35",
   "metadata": {},
   "outputs": [
    {
     "data": {
      "text/plain": [
       "['abcdefghijklmnopqrstuvwxyz', 'babasdghajhk', 'bbasdghajhk']"
      ]
     },
     "execution_count": 632,
     "metadata": {},
     "output_type": "execute_result"
    }
   ],
   "source": [
    "texts = [ascii_lowercase, \"basdghajhk\", \"bbasdghajhk\"]\n",
    "# texts = [list(t) for t in texts]\n",
    "predict(model, texts, encoder, decoder, len(vocab), batch_size=1)"
   ]
  },
  {
   "cell_type": "code",
   "execution_count": null,
   "id": "1c87e028",
   "metadata": {},
   "outputs": [],
   "source": []
  },
  {
   "cell_type": "code",
   "execution_count": 46,
   "id": "2d6a21c7",
   "metadata": {},
   "outputs": [
    {
     "name": "stdout",
     "output_type": "stream",
     "text": [
      "abcdefghijklmnopqrstuvwxyz\n",
      "babasdghajhk\n",
      "bbasdghajhk\n"
     ]
    }
   ],
   "source": [
    "for string in texts:\n",
    "    print(\"\".join(transduce_str(list(string))))"
   ]
  },
  {
   "cell_type": "code",
   "execution_count": 634,
   "id": "0e0c9a72",
   "metadata": {},
   "outputs": [
    {
     "data": {
      "text/plain": [
       "['a', 'b', 'c', 'd', 'e']"
      ]
     },
     "execution_count": 634,
     "metadata": {},
     "output_type": "execute_result"
    }
   ],
   "source": [
    "predict_next(model, \"abcde\", encoder, decoder, re_start=False)"
   ]
  },
  {
   "cell_type": "code",
   "execution_count": null,
   "id": "1476d15a",
   "metadata": {},
   "outputs": [],
   "source": []
  },
  {
   "cell_type": "code",
   "execution_count": null,
   "id": "8e92ee45",
   "metadata": {},
   "outputs": [],
   "source": []
  },
  {
   "cell_type": "code",
   "execution_count": null,
   "id": "792c25a4",
   "metadata": {},
   "outputs": [],
   "source": []
  },
  {
   "cell_type": "code",
   "execution_count": null,
   "id": "5736506c",
   "metadata": {},
   "outputs": [],
   "source": []
  }
 ],
 "metadata": {
  "kernelspec": {
   "display_name": "Python 3 (ipykernel)",
   "language": "python",
   "name": "python3"
  },
  "language_info": {
   "codemirror_mode": {
    "name": "ipython",
    "version": 3
   },
   "file_extension": ".py",
   "mimetype": "text/x-python",
   "name": "python",
   "nbconvert_exporter": "python",
   "pygments_lexer": "ipython3",
   "version": "3.9.6"
  }
 },
 "nbformat": 4,
 "nbformat_minor": 5
}
