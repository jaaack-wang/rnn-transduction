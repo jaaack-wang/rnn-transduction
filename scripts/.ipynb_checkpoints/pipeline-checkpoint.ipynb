{
 "cells": [
  {
   "cell_type": "code",
   "execution_count": 1,
   "id": "d05c5085",
   "metadata": {},
   "outputs": [],
   "source": [
    "from random import choices\n",
    "from string import ascii_lowercase\n",
    "\n",
    "import torch\n",
    "import torch.nn as nn\n",
    "import torch.optim as optim\n",
    "from dataloader import get_text_encoder_decoder, customize_dataloader_func\n",
    "from pytorch_utils import get_model, train_and_evaluate, customize_predictor"
   ]
  },
  {
   "cell_type": "code",
   "execution_count": null,
   "id": "13e57df5",
   "metadata": {},
   "outputs": [],
   "source": []
  },
  {
   "cell_type": "code",
   "execution_count": 2,
   "id": "96a831d5",
   "metadata": {},
   "outputs": [
    {
     "data": {
      "text/plain": [
       "(26, 26)"
      ]
     },
     "execution_count": 2,
     "metadata": {},
     "output_type": "execute_result"
    }
   ],
   "source": [
    "in_vocab = ascii_lowercase\n",
    "out_vocab = list(range(10, 36))\n",
    "len(in_vocab), len(out_vocab)"
   ]
  },
  {
   "cell_type": "code",
   "execution_count": 3,
   "id": "78ae8990",
   "metadata": {},
   "outputs": [
    {
     "data": {
      "text/plain": [
       "{'a': 10,\n",
       " 'b': 11,\n",
       " 'c': 12,\n",
       " 'd': 13,\n",
       " 'e': 14,\n",
       " 'f': 15,\n",
       " 'g': 16,\n",
       " 'h': 17,\n",
       " 'i': 18,\n",
       " 'j': 19,\n",
       " 'k': 20,\n",
       " 'l': 21,\n",
       " 'm': 22,\n",
       " 'n': 23,\n",
       " 'o': 24,\n",
       " 'p': 25,\n",
       " 'q': 26,\n",
       " 'r': 27,\n",
       " 's': 28,\n",
       " 't': 29,\n",
       " 'u': 30,\n",
       " 'v': 31,\n",
       " 'w': 32,\n",
       " 'x': 33,\n",
       " 'y': 34,\n",
       " 'z': 35}"
      ]
     },
     "execution_count": 3,
     "metadata": {},
     "output_type": "execute_result"
    }
   ],
   "source": [
    "trans_map = dict(zip(in_vocab, out_vocab))\n",
    "trans_map"
   ]
  },
  {
   "cell_type": "code",
   "execution_count": 4,
   "id": "0fb79b7e",
   "metadata": {},
   "outputs": [],
   "source": [
    "in_seq_encoder, _ = get_text_encoder_decoder(in_vocab)\n",
    "out_seq_encoder, out_seq_decoder = get_text_encoder_decoder(out_vocab)"
   ]
  },
  {
   "cell_type": "code",
   "execution_count": null,
   "id": "a5da5c42",
   "metadata": {},
   "outputs": [],
   "source": []
  },
  {
   "cell_type": "code",
   "execution_count": 5,
   "id": "aa2fbed4",
   "metadata": {},
   "outputs": [],
   "source": [
    "def transduce(text):\n",
    "    return [trans_map[t] for t in text]"
   ]
  },
  {
   "cell_type": "code",
   "execution_count": null,
   "id": "324c96aa",
   "metadata": {},
   "outputs": [],
   "source": []
  },
  {
   "cell_type": "code",
   "execution_count": 6,
   "id": "3159cfba",
   "metadata": {},
   "outputs": [
    {
     "data": {
      "text/plain": [
       "[10, 13, 28, 13, 28, 13]"
      ]
     },
     "execution_count": 6,
     "metadata": {},
     "output_type": "execute_result"
    }
   ],
   "source": [
    "transduce(\"adsdsd\")"
   ]
  },
  {
   "cell_type": "code",
   "execution_count": null,
   "id": "65273072",
   "metadata": {},
   "outputs": [],
   "source": []
  },
  {
   "cell_type": "code",
   "execution_count": 7,
   "id": "5f5867b0",
   "metadata": {},
   "outputs": [],
   "source": [
    "train = []\n",
    "dev = []\n",
    "\n",
    "for _ in range(5):\n",
    "    text = \"\".join(choices(ascii_lowercase, k=26))\n",
    "    train.append([text, transduce(text)])\n",
    "    dev.append([text[::-1], transduce(text[::-1])])"
   ]
  },
  {
   "cell_type": "code",
   "execution_count": null,
   "id": "42844428",
   "metadata": {},
   "outputs": [],
   "source": []
  },
  {
   "cell_type": "code",
   "execution_count": 8,
   "id": "d33c5640",
   "metadata": {},
   "outputs": [],
   "source": [
    "dataloader_func = customize_dataloader_func(in_seq_encoder, out_seq_encoder, 27, batch_size=1000)"
   ]
  },
  {
   "cell_type": "code",
   "execution_count": 9,
   "id": "65de002b",
   "metadata": {},
   "outputs": [],
   "source": [
    "train_dl = dataloader_func(train)\n",
    "dev_dl = dataloader_func(dev)"
   ]
  },
  {
   "cell_type": "code",
   "execution_count": null,
   "id": "6811cf07",
   "metadata": {},
   "outputs": [],
   "source": []
  },
  {
   "cell_type": "code",
   "execution_count": 10,
   "id": "6d3cfc18",
   "metadata": {},
   "outputs": [
    {
     "name": "stdout",
     "output_type": "stream",
     "text": [
      "The model has 142 trainable parameters\n"
     ]
    }
   ],
   "source": [
    "ModelConfig = {\"bias\": True, \n",
    "               \"rnn_type\": \"SRNN\",\n",
    "               \"embd_dim\": 2, \n",
    "               \"num_layers\": 1,\n",
    "               \"hidden_size\": 2, \n",
    "               \"dropout_rate\": 0.0,\n",
    "               \"bidirectional\": False,\n",
    "               \"in_vocab_size\": len(in_vocab), \n",
    "               \"out_vocab_size\": len(out_vocab),  \n",
    "               \"reduction_method\": \"sum\"}\n",
    "\n",
    "model = get_model(ModelConfig)"
   ]
  },
  {
   "cell_type": "code",
   "execution_count": 11,
   "id": "ea86e84d",
   "metadata": {},
   "outputs": [
    {
     "name": "stdout",
     "output_type": "stream",
     "text": [
      "Current epoch: 200, \n",
      "training performance: {'loss': 1.8932832479476929, 'full sequence accuracy': 0.0, 'first n-symbol accuracy': 0.046153846153846156, 'overlap rate': 0.3384615384615385}\n",
      "evaluation performance: {'loss': 1.8951029777526855, 'full sequence accuracy': 0.0, 'first n-symbol accuracy': 0.015384615384615385, 'overlap rate': 0.3384615384615385}\n",
      "\n",
      "Current epoch: 400, \n",
      "training performance: {'loss': 1.5397619009017944, 'full sequence accuracy': 0.0, 'first n-symbol accuracy': 0.046153846153846156, 'overlap rate': 0.4384615384615384}\n",
      "evaluation performance: {'loss': 1.539762020111084, 'full sequence accuracy': 0.0, 'first n-symbol accuracy': 0.015384615384615385, 'overlap rate': 0.4384615384615384}\n",
      "\n",
      "Current epoch: 600, \n",
      "training performance: {'loss': 1.3509770631790161, 'full sequence accuracy': 0.0, 'first n-symbol accuracy': 0.046153846153846156, 'overlap rate': 0.5230769230769231}\n",
      "evaluation performance: {'loss': 1.3509780168533325, 'full sequence accuracy': 0.0, 'first n-symbol accuracy': 0.038461538461538464, 'overlap rate': 0.5230769230769231}\n",
      "\n",
      "Current epoch: 800, \n",
      "training performance: {'loss': 1.230149507522583, 'full sequence accuracy': 0.0, 'first n-symbol accuracy': 0.046153846153846156, 'overlap rate': 0.5461538461538462}\n",
      "evaluation performance: {'loss': 1.230149745941162, 'full sequence accuracy': 0.0, 'first n-symbol accuracy': 0.038461538461538464, 'overlap rate': 0.5461538461538462}\n",
      "\n",
      "Current epoch: 1000, \n",
      "training performance: {'loss': 1.1430842876434326, 'full sequence accuracy': 0.0, 'first n-symbol accuracy': 0.046153846153846156, 'overlap rate': 0.5769230769230769}\n",
      "evaluation performance: {'loss': 1.143084168434143, 'full sequence accuracy': 0.0, 'first n-symbol accuracy': 0.05384615384615385, 'overlap rate': 0.5769230769230769}\n",
      "\n",
      "Current epoch: 1200, \n",
      "training performance: {'loss': 1.0227572917938232, 'full sequence accuracy': 0.0, 'first n-symbol accuracy': 0.1, 'overlap rate': 0.6461538461538462}\n",
      "evaluation performance: {'loss': 1.022756814956665, 'full sequence accuracy': 0.0, 'first n-symbol accuracy': 0.05384615384615385, 'overlap rate': 0.6461538461538462}\n",
      "\n",
      "Current epoch: 1400, \n",
      "training performance: {'loss': 0.9429194331169128, 'full sequence accuracy': 0.0, 'first n-symbol accuracy': 0.1076923076923077, 'overlap rate': 0.6692307692307692}\n",
      "evaluation performance: {'loss': 0.942919135093689, 'full sequence accuracy': 0.0, 'first n-symbol accuracy': 0.05384615384615385, 'overlap rate': 0.6692307692307692}\n",
      "\n",
      "Current epoch: 1600, \n",
      "training performance: {'loss': 0.8953781723976135, 'full sequence accuracy': 0.0, 'first n-symbol accuracy': 0.1076923076923077, 'overlap rate': 0.7153846153846154}\n",
      "evaluation performance: {'loss': 0.8953781127929688, 'full sequence accuracy': 0.0, 'first n-symbol accuracy': 0.05384615384615385, 'overlap rate': 0.7153846153846154}\n",
      "\n",
      "Current epoch: 1800, \n",
      "training performance: {'loss': 0.839832067489624, 'full sequence accuracy': 0.0, 'first n-symbol accuracy': 0.1076923076923077, 'overlap rate': 0.7153846153846154}\n",
      "evaluation performance: {'loss': 0.839832067489624, 'full sequence accuracy': 0.0, 'first n-symbol accuracy': 0.05384615384615385, 'overlap rate': 0.7153846153846154}\n",
      "\n",
      "Current epoch: 2000, \n",
      "training performance: {'loss': 0.801985502243042, 'full sequence accuracy': 0.0, 'first n-symbol accuracy': 0.1, 'overlap rate': 0.6923076923076923}\n",
      "evaluation performance: {'loss': 0.8019853234291077, 'full sequence accuracy': 0.0, 'first n-symbol accuracy': 0.05384615384615385, 'overlap rate': 0.6923076923076923}\n",
      "\n",
      "Current epoch: 2200, \n",
      "training performance: {'loss': 0.7741016745567322, 'full sequence accuracy': 0.0, 'first n-symbol accuracy': 0.1, 'overlap rate': 0.6923076923076923}\n",
      "evaluation performance: {'loss': 0.7741014957427979, 'full sequence accuracy': 0.0, 'first n-symbol accuracy': 0.05384615384615385, 'overlap rate': 0.6923076923076923}\n",
      "\n",
      "Current epoch: 2400, \n",
      "training performance: {'loss': 0.751331627368927, 'full sequence accuracy': 0.0, 'first n-symbol accuracy': 0.1, 'overlap rate': 0.6923076923076923}\n",
      "evaluation performance: {'loss': 0.751331090927124, 'full sequence accuracy': 0.0, 'first n-symbol accuracy': 0.05384615384615385, 'overlap rate': 0.6923076923076923}\n",
      "\n",
      "Current epoch: 2600, \n",
      "training performance: {'loss': 0.7320572137832642, 'full sequence accuracy': 0.0, 'first n-symbol accuracy': 0.1, 'overlap rate': 0.6923076923076923}\n",
      "evaluation performance: {'loss': 0.7320570945739746, 'full sequence accuracy': 0.0, 'first n-symbol accuracy': 0.05384615384615385, 'overlap rate': 0.6923076923076923}\n",
      "\n",
      "Current epoch: 2800, \n",
      "training performance: {'loss': 0.6871856451034546, 'full sequence accuracy': 0.0, 'first n-symbol accuracy': 0.1076923076923077, 'overlap rate': 0.7615384615384615}\n",
      "evaluation performance: {'loss': 0.687184751033783, 'full sequence accuracy': 0.0, 'first n-symbol accuracy': 0.06153846153846154, 'overlap rate': 0.7615384615384615}\n",
      "\n",
      "Current epoch: 3000, \n",
      "training performance: {'loss': 0.6074580550193787, 'full sequence accuracy': 0.0, 'first n-symbol accuracy': 0.11538461538461539, 'overlap rate': 0.7923076923076924}\n",
      "evaluation performance: {'loss': 0.6074580550193787, 'full sequence accuracy': 0.0, 'first n-symbol accuracy': 0.07692307692307693, 'overlap rate': 0.7923076923076924}\n",
      "\n",
      "Current epoch: 3200, \n",
      "training performance: {'loss': 0.5744152665138245, 'full sequence accuracy': 0.0, 'first n-symbol accuracy': 0.11538461538461539, 'overlap rate': 0.8076923076923077}\n",
      "evaluation performance: {'loss': 0.5744151473045349, 'full sequence accuracy': 0.0, 'first n-symbol accuracy': 0.07692307692307693, 'overlap rate': 0.8076923076923077}\n",
      "\n",
      "Current epoch: 3400, \n",
      "training performance: {'loss': 0.5235385894775391, 'full sequence accuracy': 0.0, 'first n-symbol accuracy': 0.11538461538461539, 'overlap rate': 0.8076923076923077}\n",
      "evaluation performance: {'loss': 0.5235384106636047, 'full sequence accuracy': 0.0, 'first n-symbol accuracy': 0.07692307692307693, 'overlap rate': 0.8076923076923077}\n",
      "\n",
      "Current epoch: 3600, \n",
      "training performance: {'loss': 0.4915233552455902, 'full sequence accuracy': 0.0, 'first n-symbol accuracy': 0.12307692307692308, 'overlap rate': 0.8307692307692308}\n",
      "evaluation performance: {'loss': 0.491523414850235, 'full sequence accuracy': 0.0, 'first n-symbol accuracy': 0.07692307692307693, 'overlap rate': 0.8307692307692308}\n",
      "\n",
      "Current epoch: 3800, \n",
      "training performance: {'loss': 0.46349450945854187, 'full sequence accuracy': 0.0, 'first n-symbol accuracy': 0.18461538461538463, 'overlap rate': 0.8538461538461538}\n",
      "evaluation performance: {'loss': 0.4634944200515747, 'full sequence accuracy': 0.0, 'first n-symbol accuracy': 0.07692307692307693, 'overlap rate': 0.8538461538461538}\n",
      "\n",
      "Current epoch: 4000, \n",
      "training performance: {'loss': 0.4363817274570465, 'full sequence accuracy': 0.0, 'first n-symbol accuracy': 0.18461538461538463, 'overlap rate': 0.8538461538461538}\n",
      "evaluation performance: {'loss': 0.4363816976547241, 'full sequence accuracy': 0.0, 'first n-symbol accuracy': 0.07692307692307693, 'overlap rate': 0.8538461538461538}\n",
      "\n",
      "Current epoch: 4200, \n",
      "training performance: {'loss': 0.4112730324268341, 'full sequence accuracy': 0.0, 'first n-symbol accuracy': 0.18461538461538463, 'overlap rate': 0.8538461538461538}\n",
      "evaluation performance: {'loss': 0.4112696945667267, 'full sequence accuracy': 0.0, 'first n-symbol accuracy': 0.07692307692307693, 'overlap rate': 0.8538461538461538}\n",
      "\n",
      "Current epoch: 4400, \n",
      "training performance: {'loss': 0.3348175883293152, 'full sequence accuracy': 0.0, 'first n-symbol accuracy': 0.3076923076923077, 'overlap rate': 0.9153846153846154}\n",
      "evaluation performance: {'loss': 0.3348175883293152, 'full sequence accuracy': 0.0, 'first n-symbol accuracy': 0.2846153846153846, 'overlap rate': 0.9153846153846154}\n",
      "\n",
      "Current epoch: 4600, \n",
      "training performance: {'loss': 0.29613545536994934, 'full sequence accuracy': 0.0, 'first n-symbol accuracy': 0.3076923076923077, 'overlap rate': 0.9153846153846154}\n",
      "evaluation performance: {'loss': 0.2961353659629822, 'full sequence accuracy': 0.0, 'first n-symbol accuracy': 0.2846153846153846, 'overlap rate': 0.9153846153846154}\n",
      "\n",
      "Current epoch: 4800, \n",
      "training performance: {'loss': 0.27908992767333984, 'full sequence accuracy': 0.0, 'first n-symbol accuracy': 0.3076923076923077, 'overlap rate': 0.9153846153846154}\n",
      "evaluation performance: {'loss': 0.27908992767333984, 'full sequence accuracy': 0.0, 'first n-symbol accuracy': 0.2846153846153846, 'overlap rate': 0.9153846153846154}\n",
      "\n"
     ]
    },
    {
     "name": "stdout",
     "output_type": "stream",
     "text": [
      "Current epoch: 5000, \n",
      "training performance: {'loss': 0.26772400736808777, 'full sequence accuracy': 0.0, 'first n-symbol accuracy': 0.3076923076923077, 'overlap rate': 0.9153846153846154}\n",
      "evaluation performance: {'loss': 0.26772400736808777, 'full sequence accuracy': 0.0, 'first n-symbol accuracy': 0.2846153846153846, 'overlap rate': 0.9153846153846154}\n",
      "\n",
      "Current epoch: 5200, \n",
      "training performance: {'loss': 0.25871559977531433, 'full sequence accuracy': 0.0, 'first n-symbol accuracy': 0.3076923076923077, 'overlap rate': 0.9153846153846154}\n",
      "evaluation performance: {'loss': 0.25871556997299194, 'full sequence accuracy': 0.0, 'first n-symbol accuracy': 0.2846153846153846, 'overlap rate': 0.9153846153846154}\n",
      "\n",
      "Current epoch: 5400, \n",
      "training performance: {'loss': 0.20316016674041748, 'full sequence accuracy': 1.0, 'first n-symbol accuracy': 1.0, 'overlap rate': 1.0}\n",
      "evaluation performance: {'loss': 0.20316922664642334, 'full sequence accuracy': 1.0, 'first n-symbol accuracy': 1.0, 'overlap rate': 1.0}\n",
      "\n"
     ]
    }
   ],
   "source": [
    "criterion = nn.CrossEntropyLoss()\n",
    "optimizer = optim.Adam(model.parameters(), lr=1e-2, weight_decay=1e-5)\n",
    "\n",
    "log = train_and_evaluate(model, train_dl, dev_dl, criterion, optimizer, \n",
    "                         saved_model_fp=\"model.pt\", acc_threshold=1.1, \n",
    "                         print_eval_freq=200, max_epoch_num=10000, \n",
    "                         train_exit_acc=1.0, eval_exit_acc=1.0)"
   ]
  },
  {
   "cell_type": "code",
   "execution_count": null,
   "id": "cb9c1f5c",
   "metadata": {},
   "outputs": [],
   "source": []
  },
  {
   "cell_type": "code",
   "execution_count": 12,
   "id": "2ce738a0",
   "metadata": {},
   "outputs": [],
   "source": [
    "predictor = customize_predictor(model, dataloader_func, out_seq_decoder)"
   ]
  },
  {
   "cell_type": "code",
   "execution_count": 13,
   "id": "c668bd8d",
   "metadata": {},
   "outputs": [
    {
     "data": {
      "text/plain": [
       "[[10,\n",
       "  11,\n",
       "  12,\n",
       "  13,\n",
       "  14,\n",
       "  15,\n",
       "  16,\n",
       "  17,\n",
       "  18,\n",
       "  19,\n",
       "  20,\n",
       "  21,\n",
       "  22,\n",
       "  23,\n",
       "  24,\n",
       "  25,\n",
       "  26,\n",
       "  27,\n",
       "  28,\n",
       "  29,\n",
       "  30,\n",
       "  31,\n",
       "  32,\n",
       "  33,\n",
       "  34,\n",
       "  35]]"
      ]
     },
     "execution_count": 13,
     "metadata": {},
     "output_type": "execute_result"
    }
   ],
   "source": [
    "predictor(ascii_lowercase)"
   ]
  },
  {
   "cell_type": "code",
   "execution_count": null,
   "id": "81c98042",
   "metadata": {},
   "outputs": [],
   "source": []
  }
 ],
 "metadata": {
  "kernelspec": {
   "display_name": "Python 3 (ipykernel)",
   "language": "python",
   "name": "python3"
  },
  "language_info": {
   "codemirror_mode": {
    "name": "ipython",
    "version": 3
   },
   "file_extension": ".py",
   "mimetype": "text/x-python",
   "name": "python",
   "nbconvert_exporter": "python",
   "pygments_lexer": "ipython3",
   "version": "3.9.6"
  }
 },
 "nbformat": 4,
 "nbformat_minor": 5
}
